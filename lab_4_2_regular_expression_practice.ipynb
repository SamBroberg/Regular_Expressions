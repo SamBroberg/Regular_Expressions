{
 "cells": [
  {
   "cell_type": "markdown",
   "metadata": {},
   "source": [
    "# Lab 4.2- Regular Expression Practice\n",
    "\n",
    "Now that we have grouped the data blocks, we need to identify and correct problems in the data.  The go-to tools for this task is the regular expression.  In this lab, we will point out a number of problems in the grouped data and create regular expression to perform various tasks (matching/splitting/substitution)."
   ]
  },
  {
   "cell_type": "markdown",
   "metadata": {},
   "source": [
    "## Problem 1 -- Reading in current progress\n",
    "\n",
    "Recall that we saved the results of grouping the data in a file named `911_Deaths_Grouped.csv`.  Read in the content of this file and split the content into a list of lines."
   ]
  },
  {
   "cell_type": "markdown",
   "metadata": {},
   "source": [
    "#### Key"
   ]
  },
  {
   "cell_type": "code",
   "execution_count": 1,
   "metadata": {},
   "outputs": [
    {
     "output_type": "execute_result",
     "data": {
      "text/plain": "\"Gordon M. Aamoth, Jr., 32, Sandler O'Neill + Partners, World Trade Center.\\nEdelmiro Abad, 54, Brooklyn, N.Y., Fiduciary Trust Company International, World Trade Center.\\nMarie Rose Abad, 49, Keefe, Bruyette&Woods, Inc., World Trade Center.\\nAndrew Anthony Abate, 37, Melville, N.Y., Cantor Fitzgerald, World Trade Center.\\nVincent Paul Abate, 40, Brooklyn, N.Y., Cantor Fitzgerald, World Trade Center.\\nLaurence Christopher Abel, 37, New York City, Cantor Fitzgerald, World Trade Center.\\nAlona Abraham, 3\""
     },
     "metadata": {},
     "execution_count": 1
    }
   ],
   "source": [
    "with open('911_Deaths_Grouped.csv') as f:\n",
    "    content = f.read()\n",
    "content[:500]"
   ]
  },
  {
   "cell_type": "code",
   "execution_count": 2,
   "metadata": {},
   "outputs": [
    {
     "output_type": "execute_result",
     "data": {
      "text/plain": "[\"Gordon M. Aamoth, Jr., 32, Sandler O'Neill + Partners, World Trade Center.\",\n 'Edelmiro Abad, 54, Brooklyn, N.Y., Fiduciary Trust Company International, World Trade Center.',\n 'Marie Rose Abad, 49, Keefe, Bruyette&Woods, Inc., World Trade Center.',\n 'Andrew Anthony Abate, 37, Melville, N.Y., Cantor Fitzgerald, World Trade Center.',\n 'Vincent Paul Abate, 40, Brooklyn, N.Y., Cantor Fitzgerald, World Trade Center.',\n 'Laurence Christopher Abel, 37, New York City, Cantor Fitzgerald, World Trade Center.',\n 'Alona Abraham, 30, Ashdod, Israel, Passenger, United 175, World Trade Center.',\n 'William F. Abrahamson, 55, Westchester County, N.Y., Marsh&McLennan Companies, Inc., World Trade Center.',\n 'Richard Anthony Aceto, 42, Marsh&McLennan Companies, Inc., World Trade Center.',\n 'Heinrich Bernhard Ackermann, 38, Aon Corporation, World Trade Center.',\n 'Paul Acquaviva, 29, Glen Rock, N.J., Cantor Fitzgerald, World Trade Center.',\n 'Christian Adams, 37, Passenger, United 93, Shanksville, Pa.',\n 'Donald LaRoy Adams, 28, Cantor Fitzgerald, World Trade Center.',\n 'Patrick Adams, 61, Fuji Bank, Ltd. security, World Trade Center.',\n 'Shannon Lewis Adams, 25, Cantor Fitzgerald, World Trade Center.',\n 'Stephen George Adams, 51, New York City, Windows on the World, World Trade Center.',\n 'Ignatius Udo Adanga, 62, Bronx, N.Y., New York Metropolitan Transportation Council, World Trade Center.',\n 'Christy A. Addamo, 28, New Hyde Park, N.Y., Marsh&McLennan Companies, Inc., World Trade Center.',\n 'Terence Edward Adderley, Jr., 22, New York City, Fred Alger Management, Inc., World Trade Center.',\n 'Sophia B. Addo, 36, Bronx, N.Y., Windows on the World, World Trade Center.',\n 'Lee Adler, 48, Cantor Fitzgerald, World Trade Center.',\n 'Daniel Thomas Afflitto, 32, Manalapan, N.J., Cantor Fitzgerald, World Trade Center.',\n 'Emmanuel Akwasi Afuakwah, 37, Windows on the World, World Trade Center.',\n 'Alok Agarwal, 36, Cantor Fitzgerald, World Trade Center.',\n 'Mukul Kumar Agarwala, 37, Fiduciary Trust Company International, World Trade Center.',\n 'Joseph Agnello, 35, Belle Harbor, N.Y., New York City Fire Department, World Trade Center.',\n 'David Scott Agnes, 46, Port Washington, N.Y., Cantor Fitzgerald, World Trade Center.',\n 'Joao Alberto da Fonseca Aguiar, Jr., 30, Hoboken, N.J., Keefe, Bruyette&Woods, Inc., World Trade Center.',\n 'Brian G. Ahearn, 43, Huntington, N.Y., New York City Fire Department, World Trade Center.',\n 'Jeremiah Joseph Ahern, 74, New Jersey, New York State Department of Taxation and Finance, World Trade Center.',\n 'Joanne Marie Ahladiotis, 27, Forest Hills, N.Y., Cantor Fitzgerald, World Trade Center.',\n 'Shabbir Ahmed, 47, Brooklyn, N.Y., Windows on the World, World Trade Center.',\n 'Terrance Andre Aiken, 30, Marsh&McLennan consultant, World Trade Center.',\n 'Godwin O. Ajala, 33, Summit Security Services, Inc., World Trade Center, died 9/15/01.',\n 'Trudi M. Alagero, 37, New York City, Marsh&McLennan Companies, Inc., World Trade Center.',\n 'Andrew Alameno, 37, Westfield, N.J., Cantor Fitzgerald, World Trade Center.',\n 'Margaret Ann Alario, 41, Staten Island, N.Y., Aon Corporation visitor from Zurich Financial Services, World Trade Center.',\n 'Gary M. Albero, 39, Emerson, N.J., Aon Corporation, World Trade Center.',\n 'Jon Leslie Albert, 46, Upper Nyack, N.Y., Marsh&McLennan Companies, Inc., World Trade Center.',\n 'Peter Craig Alderman, 25, New York City, Risk Waters Group conference attendee from Bloomberg L.P., World Trade Center.',\n 'Jacquelyn Delaine Aldridge-Frederick, 46, Staten Island, N.Y., Marsh&McLennan Companies, Inc., World Trade Center.',\n 'David D. Alger, 57, New York City, Fred Alger Management, Inc., World Trade Center.',\n 'Ernest Alikakos, 43, Brooklyn, N.Y., New York State Department of Taxation and Finance, World Trade Center.',\n 'Edward L. Allegretto, 51, Cantor Fitzgerald, World Trade Center.',\n 'Eric Allen, 44, Brooklyn, N.Y., New York City Fire Department, World Trade Center.',\n 'Joseph Ryan Allen, 39, Cantor Fitzgerald, World Trade Center.',\n 'Richard Dennis Allen, 31, Rockaway Beach, N.Y., New York City Fire Department, World Trade Center.',\n 'Richard L. Allen, 30, Brooklyn, N.Y., Marsh&McLennan Companies, Inc., World Trade Center.',\n 'Christopher E. Allingham, 36, River Edge, N.J., Cantor Fitzgerald, World Trade Center.',\n 'Anna S. W. Allison, 48, Stoneham, Mass., Passenger, United 11, World Trade Center.']"
     },
     "metadata": {},
     "execution_count": 2
    }
   ],
   "source": [
    "grouped_lines = content.split('\\n')\n",
    "grouped_lines[:50]"
   ]
  },
  {
   "cell_type": "markdown",
   "metadata": {},
   "source": [
    "## Problem 2 -- Inspecting problem lines\n",
    "\n",
    "I have provided some examples of problems that can be found in this data set below.  Inspect the lines and determine one or more things that are problematic for each line."
   ]
  },
  {
   "cell_type": "code",
   "execution_count": 3,
   "metadata": {
    "scrolled": true
   },
   "outputs": [
    {
     "output_type": "execute_result",
     "data": {
      "text/plain": "[\"Gordon M. Aamoth, Jr., 32, Sandler O'Neill + Partners, World Trade Center.\",\n 'Godwin O. Ajala, 33, Summit Security Services, Inc., World Trade Center, died 9/15/01.',\n 'Mary Lynn Edwards Angell, 52, Cape Cod, Mass. and Pasadena, Calif., Passenger, United 11, World Trade Center.',\n 'Laura Angilletta, 23, Staten Island, N.Y., Cantor Fitzgerald, World Trade Center.',\n 'Lorraine G. Bay, 58, East Windsor, N.J., Flight Crew, United 93, Shanksville, Pa.',\n 'Canfield D. Boone, ??, United States Army, Pentagon.',\n 'Albert Gunnis Joseph, 79, New York City, Morgan Stanley, World Trade Center, died 1/2/02.',\n 'Ingeborg Joseph, 53, Marriott guest, World Trade Center, died 10/9/01.',\n 'Brenda Kegler, ??, Capitol Heights, Md., United States Army Civilian, Pentagon.']"
     },
     "metadata": {},
     "execution_count": 3
    }
   ],
   "source": [
    "example_idx = (0, 33, 75, 76, 150, 232, 1304, 1305, 1343)\n",
    "examples = [l for i, l in enumerate(grouped_lines) if i in example_idx]\n",
    "examples"
   ]
  },
  {
   "cell_type": "markdown",
   "metadata": {},
   "source": [
    "> Your answers here"
   ]
  },
  {
   "cell_type": "markdown",
   "metadata": {},
   "source": [
    "#### Key\n",
    "\n",
    "Some problems include\n",
    "\n",
    "1. Comma's in names, companies, location\n",
    "2. Missing ages (represented as `??`)\n",
    "3. Rows missing an entry for hometowns, passenger type, flight, and date of death.\n",
    "4. Non-uniform hometown/state entries.\n"
   ]
  },
  {
   "cell_type": "markdown",
   "metadata": {},
   "source": [
    "## General procedure\n",
    "\n",
    "1. Create the expression and test against positive case.\n",
    "2. Match/search against all example\n",
    "3. After you know it works, add the `groups` method for all examples.\n",
    "4. Look for any non-matches in the full data set.\n",
    "5. Test on the fill data set if all rows match."
   ]
  },
  {
   "cell_type": "markdown",
   "metadata": {},
   "source": [
    "## What's the big deal?\n",
    "\n",
    "So why are we being so careful to make sure everything matches? Turns out that if any row fails to match, adding `groups` will crash the code :/"
   ]
  },
  {
   "cell_type": "code",
   "execution_count": 5,
   "metadata": {},
   "outputs": [
    {
     "output_type": "execute_result",
     "data": {
      "text/plain": "[<re.Match object; span=(21, 26), match=', 32,'>,\n <re.Match object; span=(15, 20), match=', 33,'>,\n <re.Match object; span=(24, 29), match=', 52,'>,\n <re.Match object; span=(16, 21), match=', 23,'>,\n <re.Match object; span=(15, 20), match=', 58,'>,\n None,\n <re.Match object; span=(20, 25), match=', 79,'>,\n <re.Match object; span=(15, 20), match=', 53,'>,\n None]"
     },
     "metadata": {},
     "execution_count": 5
    }
   ],
   "source": [
    "import re\n",
    "test = re.compile(', (\\d\\d),')\n",
    "[test.search(l) for l in examples]"
   ]
  },
  {
   "cell_type": "code",
   "execution_count": 8,
   "metadata": {},
   "outputs": [
    {
     "output_type": "execute_result",
     "data": {
      "text/plain": "('33',)"
     },
     "metadata": {},
     "execution_count": 8
    }
   ],
   "source": [
    "test.search(examples[1]).groups()"
   ]
  },
  {
   "cell_type": "code",
   "execution_count": 9,
   "metadata": {},
   "outputs": [
    {
     "output_type": "error",
     "ename": "AttributeError",
     "evalue": "'NoneType' object has no attribute 'groups'",
     "traceback": [
      "\u001b[0;31m---------------------------------------------------------------------------\u001b[0m",
      "\u001b[0;31mAttributeError\u001b[0m                            Traceback (most recent call last)",
      "\u001b[0;32m<ipython-input-9-7b9575f15afa>\u001b[0m in \u001b[0;36m<module>\u001b[0;34m\u001b[0m\n\u001b[0;32m----> 1\u001b[0;31m \u001b[0;34m[\u001b[0m\u001b[0mtest\u001b[0m\u001b[0;34m.\u001b[0m\u001b[0msearch\u001b[0m\u001b[0;34m(\u001b[0m\u001b[0ml\u001b[0m\u001b[0;34m)\u001b[0m\u001b[0;34m.\u001b[0m\u001b[0mgroups\u001b[0m\u001b[0;34m(\u001b[0m\u001b[0;34m)\u001b[0m \u001b[0;32mfor\u001b[0m \u001b[0ml\u001b[0m \u001b[0;32min\u001b[0m \u001b[0mexamples\u001b[0m\u001b[0;34m]\u001b[0m\u001b[0;34m\u001b[0m\u001b[0;34m\u001b[0m\u001b[0m\n\u001b[0m",
      "\u001b[0;32m<ipython-input-9-7b9575f15afa>\u001b[0m in \u001b[0;36m<listcomp>\u001b[0;34m(.0)\u001b[0m\n\u001b[0;32m----> 1\u001b[0;31m \u001b[0;34m[\u001b[0m\u001b[0mtest\u001b[0m\u001b[0;34m.\u001b[0m\u001b[0msearch\u001b[0m\u001b[0;34m(\u001b[0m\u001b[0ml\u001b[0m\u001b[0;34m)\u001b[0m\u001b[0;34m.\u001b[0m\u001b[0mgroups\u001b[0m\u001b[0;34m(\u001b[0m\u001b[0;34m)\u001b[0m \u001b[0;32mfor\u001b[0m \u001b[0ml\u001b[0m \u001b[0;32min\u001b[0m \u001b[0mexamples\u001b[0m\u001b[0;34m]\u001b[0m\u001b[0;34m\u001b[0m\u001b[0;34m\u001b[0m\u001b[0m\n\u001b[0m",
      "\u001b[0;31mAttributeError\u001b[0m: 'NoneType' object has no attribute 'groups'"
     ]
    }
   ],
   "source": [
    "[test.search(l).groups() for l in examples]"
   ]
  },
  {
   "cell_type": "markdown",
   "metadata": {},
   "source": [
    "## Problem 3 -- Capturing the age field\n",
    "\n",
    "Notice that all victims have a passenger field that contains either their age or `??` if the age is unknown.\n",
    "\n",
    "In this problem, we will build a regular expression to match this field, which will ALSO allow us to capture the name field (even when there are problems with extra commas)."
   ]
  },
  {
   "cell_type": "markdown",
   "metadata": {},
   "source": [
    "#### Task 1 - Capture the age field.\n",
    "\n",
    "Write a regular expression that matches and captures the age field.  \n",
    "\n",
    "**Hints:** Remember that \n",
    "\n",
    "* Use `(pat)` to capture a pattern.\n",
    "* Use `\\d` to match digits\n",
    "* `(p1|p2)` allows you to match `p1` or `p2`.   "
   ]
  },
  {
   "cell_type": "code",
   "execution_count": 6,
   "metadata": {},
   "outputs": [],
   "source": [
    "# Your code here"
   ]
  },
  {
   "cell_type": "markdown",
   "metadata": {},
   "source": [
    "#### Key"
   ]
  },
  {
   "cell_type": "code",
   "execution_count": 10,
   "metadata": {},
   "outputs": [
    {
     "output_type": "execute_result",
     "data": {
      "text/plain": "re.Match"
     },
     "metadata": {},
     "execution_count": 10
    }
   ],
   "source": [
    "import re\n",
    "age = re.compile(', (\\?\\?|\\d{1,3}),')\n",
    "type(age.search(examples[0]))"
   ]
  },
  {
   "cell_type": "code",
   "execution_count": null,
   "metadata": {},
   "outputs": [],
   "source": [
    "this reg ex matches two question marks or a group a digits ranging from 1 to 3 in length. any digit"
   ]
  },
  {
   "cell_type": "code",
   "execution_count": 11,
   "metadata": {},
   "outputs": [
    {
     "output_type": "execute_result",
     "data": {
      "text/plain": "(\"Gordon M. Aamoth, Jr., 32, Sandler O'Neill + Partners, World Trade Center.\",\n ('32',))"
     },
     "metadata": {},
     "execution_count": 11
    }
   ],
   "source": [
    "examples[0], age.search(examples[0]).groups()"
   ]
  },
  {
   "cell_type": "code",
   "execution_count": 12,
   "metadata": {},
   "outputs": [
    {
     "output_type": "execute_result",
     "data": {
      "text/plain": "[<re.Match object; span=(21, 26), match=', 32,'>,\n <re.Match object; span=(15, 20), match=', 33,'>,\n <re.Match object; span=(24, 29), match=', 52,'>,\n <re.Match object; span=(16, 21), match=', 23,'>,\n <re.Match object; span=(15, 20), match=', 58,'>,\n <re.Match object; span=(17, 22), match=', ??,'>,\n <re.Match object; span=(20, 25), match=', 79,'>,\n <re.Match object; span=(15, 20), match=', 53,'>,\n <re.Match object; span=(13, 18), match=', ??,'>]"
     },
     "metadata": {},
     "execution_count": 12
    }
   ],
   "source": [
    "[age.search(l) for l in examples]"
   ]
  },
  {
   "cell_type": "code",
   "execution_count": 13,
   "metadata": {},
   "outputs": [
    {
     "output_type": "execute_result",
     "data": {
      "text/plain": "[('32',),\n ('33',),\n ('52',),\n ('23',),\n ('58',),\n ('??',),\n ('79',),\n ('53',),\n ('??',)]"
     },
     "metadata": {},
     "execution_count": 13
    }
   ],
   "source": [
    "[age.search(l).groups() for l in examples]"
   ]
  },
  {
   "cell_type": "code",
   "execution_count": 14,
   "metadata": {},
   "outputs": [
    {
     "output_type": "execute_result",
     "data": {
      "text/plain": "[]"
     },
     "metadata": {},
     "execution_count": 14
    }
   ],
   "source": [
    "[(i, l) for i, l in enumerate(grouped_lines) if not age.search(l)]"
   ]
  },
  {
   "cell_type": "code",
   "execution_count": 15,
   "metadata": {},
   "outputs": [
    {
     "output_type": "execute_result",
     "data": {
      "text/plain": "[('32',),\n ('54',),\n ('49',),\n ('37',),\n ('40',),\n ('37',),\n ('30',),\n ('55',),\n ('42',),\n ('38',),\n ('29',),\n ('37',),\n ('28',),\n ('61',),\n ('25',),\n ('51',),\n ('62',),\n ('28',),\n ('22',),\n ('36',),\n ('48',),\n ('32',),\n ('37',),\n ('36',),\n ('37',)]"
     },
     "metadata": {},
     "execution_count": 15
    }
   ],
   "source": [
    "[age.search(l).groups() for l in grouped_lines][:25]"
   ]
  },
  {
   "cell_type": "markdown",
   "metadata": {},
   "source": [
    "#### Task 2 - Capture the age field, as well as everything before and after.\n",
    "\n",
    "Adapt your work from the last problem to not only capture the age field, but also everything before and after.\n",
    "\n",
    "**Hint:** Remember that \n",
    "\n",
    "* Use greedy wild-cards `.*` and/or `.+` to grab as much as possible.\n",
    "* Use comma's to anchor the three parts, e.g. `(pat1), (pat2), (pat3)`"
   ]
  },
  {
   "cell_type": "code",
   "execution_count": 16,
   "metadata": {},
   "outputs": [],
   "source": [
    "# .+ is a wild card which will grab as much as possible. Then commas were used as placement to anchor everything in place. Grab the stuff before the question marks or numbers, then grab those, then grab everything after"
   ]
  },
  {
   "cell_type": "markdown",
   "metadata": {},
   "source": [
    "#### Key"
   ]
  },
  {
   "cell_type": "code",
   "execution_count": 20,
   "metadata": {},
   "outputs": [],
   "source": [
    "import re\n",
    "age_plus = re.compile('(.+), (\\?\\?|\\d{1,3}), (.+)')"
   ]
  },
  {
   "cell_type": "code",
   "execution_count": 21,
   "metadata": {},
   "outputs": [
    {
     "output_type": "execute_result",
     "data": {
      "text/plain": "[<re.Match object; span=(0, 74), match=\"Gordon M. Aamoth, Jr., 32, Sandler O'Neill + Part>,\n <re.Match object; span=(0, 86), match='Godwin O. Ajala, 33, Summit Security Services, In>,\n <re.Match object; span=(0, 109), match='Mary Lynn Edwards Angell, 52, Cape Cod, Mass. and>,\n <re.Match object; span=(0, 81), match='Laura Angilletta, 23, Staten Island, N.Y., Cantor>,\n <re.Match object; span=(0, 81), match='Lorraine G. Bay, 58, East Windsor, N.J., Flight C>,\n <re.Match object; span=(0, 52), match='Canfield D. Boone, ??, United States Army, Pentag>,\n <re.Match object; span=(0, 89), match='Albert Gunnis Joseph, 79, New York City, Morgan S>,\n <re.Match object; span=(0, 70), match='Ingeborg Joseph, 53, Marriott guest, World Trade >,\n <re.Match object; span=(0, 79), match='Brenda Kegler, ??, Capitol Heights, Md., United S>]"
     },
     "metadata": {},
     "execution_count": 21
    }
   ],
   "source": [
    "[age_plus.search(l) for l in examples]"
   ]
  },
  {
   "cell_type": "code",
   "execution_count": 18,
   "metadata": {},
   "outputs": [
    {
     "output_type": "execute_result",
     "data": {
      "text/plain": "[('Gordon M. Aamoth, Jr.',\n  '32',\n  \"Sandler O'Neill + Partners, World Trade Center.\"),\n ('Godwin O. Ajala',\n  '33',\n  'Summit Security Services, Inc., World Trade Center, died 9/15/01.'),\n ('Mary Lynn Edwards Angell',\n  '52',\n  'Cape Cod, Mass. and Pasadena, Calif., Passenger, United 11, World Trade Center.'),\n ('Laura Angilletta',\n  '23',\n  'Staten Island, N.Y., Cantor Fitzgerald, World Trade Center.'),\n ('Lorraine G. Bay',\n  '58',\n  'East Windsor, N.J., Flight Crew, United 93, Shanksville, Pa.'),\n ('Canfield D. Boone', '??', 'United States Army, Pentagon.'),\n ('Albert Gunnis Joseph',\n  '79',\n  'New York City, Morgan Stanley, World Trade Center, died 1/2/02.'),\n ('Ingeborg Joseph',\n  '53',\n  'Marriott guest, World Trade Center, died 10/9/01.'),\n ('Brenda Kegler',\n  '??',\n  'Capitol Heights, Md., United States Army Civilian, Pentagon.')]"
     },
     "metadata": {},
     "execution_count": 18
    }
   ],
   "source": [
    "[age_plus.search(l).groups() for l in examples]"
   ]
  },
  {
   "cell_type": "code",
   "execution_count": 22,
   "metadata": {},
   "outputs": [
    {
     "output_type": "execute_result",
     "data": {
      "text/plain": "[]"
     },
     "metadata": {},
     "execution_count": 22
    }
   ],
   "source": [
    "[(i, l) for i, l in enumerate(grouped_lines) if not age_plus.search(l)]"
   ]
  },
  {
   "cell_type": "code",
   "execution_count": 30,
   "metadata": {},
   "outputs": [
    {
     "output_type": "execute_result",
     "data": {
      "text/plain": "[('Gordon M. Aamoth, Jr.',\n  '32',\n  \"Sandler O'Neill + Partners, World Trade Center.\"),\n ('Edelmiro Abad',\n  '54',\n  'Brooklyn, N.Y., Fiduciary Trust Company International, World Trade Center.'),\n ('Marie Rose Abad', '49', 'Keefe, Bruyette&Woods, Inc., World Trade Center.'),\n ('Andrew Anthony Abate',\n  '37',\n  'Melville, N.Y., Cantor Fitzgerald, World Trade Center.'),\n ('Vincent Paul Abate',\n  '40',\n  'Brooklyn, N.Y., Cantor Fitzgerald, World Trade Center.'),\n ('Laurence Christopher Abel',\n  '37',\n  'New York City, Cantor Fitzgerald, World Trade Center.'),\n ('Alona Abraham',\n  '30',\n  'Ashdod, Israel, Passenger, United 175, World Trade Center.'),\n ('William F. Abrahamson',\n  '55',\n  'Westchester County, N.Y., Marsh&McLennan Companies, Inc., World Trade Center.'),\n ('Richard Anthony Aceto',\n  '42',\n  'Marsh&McLennan Companies, Inc., World Trade Center.'),\n ('Heinrich Bernhard Ackermann', '38', 'Aon Corporation, World Trade Center.'),\n ('Paul Acquaviva',\n  '29',\n  'Glen Rock, N.J., Cantor Fitzgerald, World Trade Center.'),\n ('Christian Adams', '37', 'Passenger, United 93, Shanksville, Pa.'),\n ('Donald LaRoy Adams', '28', 'Cantor Fitzgerald, World Trade Center.'),\n ('Patrick Adams', '61', 'Fuji Bank, Ltd. security, World Trade Center.'),\n ('Shannon Lewis Adams', '25', 'Cantor Fitzgerald, World Trade Center.'),\n ('Stephen George Adams',\n  '51',\n  'New York City, Windows on the World, World Trade Center.'),\n ('Ignatius Udo Adanga',\n  '62',\n  'Bronx, N.Y., New York Metropolitan Transportation Council, World Trade Center.'),\n ('Christy A. Addamo',\n  '28',\n  'New Hyde Park, N.Y., Marsh&McLennan Companies, Inc., World Trade Center.'),\n ('Terence Edward Adderley, Jr.',\n  '22',\n  'New York City, Fred Alger Management, Inc., World Trade Center.'),\n ('Sophia B. Addo',\n  '36',\n  'Bronx, N.Y., Windows on the World, World Trade Center.'),\n ('Lee Adler', '48', 'Cantor Fitzgerald, World Trade Center.'),\n ('Daniel Thomas Afflitto',\n  '32',\n  'Manalapan, N.J., Cantor Fitzgerald, World Trade Center.'),\n ('Emmanuel Akwasi Afuakwah',\n  '37',\n  'Windows on the World, World Trade Center.'),\n ('Alok Agarwal', '36', 'Cantor Fitzgerald, World Trade Center.'),\n ('Mukul Kumar Agarwala',\n  '37',\n  'Fiduciary Trust Company International, World Trade Center.'),\n ('Joseph Agnello',\n  '35',\n  'Belle Harbor, N.Y., New York City Fire Department, World Trade Center.'),\n ('David Scott Agnes',\n  '46',\n  'Port Washington, N.Y., Cantor Fitzgerald, World Trade Center.'),\n ('Joao Alberto da Fonseca Aguiar, Jr.',\n  '30',\n  'Hoboken, N.J., Keefe, Bruyette&Woods, Inc., World Trade Center.'),\n ('Brian G. Ahearn',\n  '43',\n  'Huntington, N.Y., New York City Fire Department, World Trade Center.'),\n ('Jeremiah Joseph Ahern',\n  '74',\n  'New Jersey, New York State Department of Taxation and Finance, World Trade Center.'),\n ('Joanne Marie Ahladiotis',\n  '27',\n  'Forest Hills, N.Y., Cantor Fitzgerald, World Trade Center.'),\n ('Shabbir Ahmed',\n  '47',\n  'Brooklyn, N.Y., Windows on the World, World Trade Center.'),\n ('Terrance Andre Aiken',\n  '30',\n  'Marsh&McLennan consultant, World Trade Center.'),\n ('Godwin O. Ajala',\n  '33',\n  'Summit Security Services, Inc., World Trade Center, died 9/15/01.'),\n ('Trudi M. Alagero',\n  '37',\n  'New York City, Marsh&McLennan Companies, Inc., World Trade Center.'),\n ('Andrew Alameno',\n  '37',\n  'Westfield, N.J., Cantor Fitzgerald, World Trade Center.'),\n ('Margaret Ann Alario',\n  '41',\n  'Staten Island, N.Y., Aon Corporation visitor from Zurich Financial Services, World Trade Center.'),\n ('Gary M. Albero',\n  '39',\n  'Emerson, N.J., Aon Corporation, World Trade Center.'),\n ('Jon Leslie Albert',\n  '46',\n  'Upper Nyack, N.Y., Marsh&McLennan Companies, Inc., World Trade Center.'),\n ('Peter Craig Alderman',\n  '25',\n  'New York City, Risk Waters Group conference attendee from Bloomberg L.P., World Trade Center.'),\n ('Jacquelyn Delaine Aldridge-Frederick',\n  '46',\n  'Staten Island, N.Y., Marsh&McLennan Companies, Inc., World Trade Center.'),\n ('David D. Alger',\n  '57',\n  'New York City, Fred Alger Management, Inc., World Trade Center.'),\n ('Ernest Alikakos',\n  '43',\n  'Brooklyn, N.Y., New York State Department of Taxation and Finance, World Trade Center.'),\n ('Edward L. Allegretto', '51', 'Cantor Fitzgerald, World Trade Center.'),\n ('Eric Allen',\n  '44',\n  'Brooklyn, N.Y., New York City Fire Department, World Trade Center.'),\n ('Joseph Ryan Allen', '39', 'Cantor Fitzgerald, World Trade Center.'),\n ('Richard Dennis Allen',\n  '31',\n  'Rockaway Beach, N.Y., New York City Fire Department, World Trade Center.'),\n ('Richard L. Allen',\n  '30',\n  'Brooklyn, N.Y., Marsh&McLennan Companies, Inc., World Trade Center.'),\n ('Christopher E. Allingham',\n  '36',\n  'River Edge, N.J., Cantor Fitzgerald, World Trade Center.'),\n ('Anna S. W. Allison',\n  '48',\n  'Stoneham, Mass., Passenger, United 11, World Trade Center.')]"
     },
     "metadata": {},
     "execution_count": 30
    }
   ],
   "source": [
    "[age_plus.search(l).groups() for l in grouped_lines][:50]"
   ]
  },
  {
   "cell_type": "markdown",
   "metadata": {},
   "source": [
    "## Problem 4 -- Capturing the date of death\n",
    "\n",
    "While most victims of the attack died on 9/11, a few died at a later date.  Notice that those that those that died later have an additional field at the end of the line.\n",
    "\n",
    "In this problem, we will build a regular expression to match this field."
   ]
  },
  {
   "cell_type": "code",
   "execution_count": 24,
   "metadata": {},
   "outputs": [
    {
     "output_type": "execute_result",
     "data": {
      "text/plain": "'Ingeborg Joseph, 53, Marriott guest, World Trade Center, died 10/9/01.'"
     },
     "metadata": {},
     "execution_count": 24
    }
   ],
   "source": [
    "examples[-2]"
   ]
  },
  {
   "cell_type": "markdown",
   "metadata": {},
   "source": [
    "#### Task 1 - Capture the date of death field.\n",
    "  \n",
    "Write a regular expression that matches and captures the date of death (e.g. `10/9/01`).  This expression should return `None` when this field is missing.\n",
    "\n",
    "**Hints:** Remember that \n",
    "\n",
    "* Use `$` to match the end of the line.\n",
    "* Escape to match periods exactly, i.e. `\\.`\n",
    "* Use `\\d{n,m}` to match digits to match between `n` and `m` digits\n",
    "* `?` allows you to match optional patterns"
   ]
  },
  {
   "cell_type": "code",
   "execution_count": 32,
   "metadata": {},
   "outputs": [],
   "source": [
    "# this is looking for \", died\" in the line, then 1-2 digits after, followed by a backslash, then 1-2 digits after that also followed byt a backslash, then everything after that to the end of the line including question marks."
   ]
  },
  {
   "cell_type": "markdown",
   "metadata": {},
   "source": [
    "#### Key"
   ]
  },
  {
   "cell_type": "code",
   "execution_count": 25,
   "metadata": {},
   "outputs": [
    {
     "output_type": "execute_result",
     "data": {
      "text/plain": "(', died 10/9/01', '.')"
     },
     "metadata": {},
     "execution_count": 25
    }
   ],
   "source": [
    "dod = re.compile('(, died \\d{1,2}/\\d{1,2}/\\d{1,2})?(\\.)?$')\n",
    "dod.search(examples[-2]).groups()"
   ]
  },
  {
   "cell_type": "code",
   "execution_count": 26,
   "metadata": {
    "scrolled": true
   },
   "outputs": [
    {
     "output_type": "execute_result",
     "data": {
      "text/plain": "[<re.Match object; span=(73, 74), match='.'>,\n <re.Match object; span=(71, 86), match=', died 9/15/01.'>,\n <re.Match object; span=(108, 109), match='.'>,\n <re.Match object; span=(80, 81), match='.'>,\n <re.Match object; span=(80, 81), match='.'>,\n <re.Match object; span=(51, 52), match='.'>,\n <re.Match object; span=(75, 89), match=', died 1/2/02.'>,\n <re.Match object; span=(55, 70), match=', died 10/9/01.'>,\n <re.Match object; span=(78, 79), match='.'>]"
     },
     "metadata": {},
     "execution_count": 26
    }
   ],
   "source": [
    "[dod.search(l) for l in examples]"
   ]
  },
  {
   "cell_type": "code",
   "execution_count": 27,
   "metadata": {},
   "outputs": [
    {
     "output_type": "execute_result",
     "data": {
      "text/plain": "[(None, '.'),\n (', died 9/15/01', '.'),\n (None, '.'),\n (None, '.'),\n (None, '.'),\n (None, '.'),\n (', died 1/2/02', '.'),\n (', died 10/9/01', '.'),\n (None, '.')]"
     },
     "metadata": {},
     "execution_count": 27
    }
   ],
   "source": [
    "[dod.search(l).groups() for l in examples]"
   ]
  },
  {
   "cell_type": "code",
   "execution_count": 28,
   "metadata": {},
   "outputs": [
    {
     "output_type": "execute_result",
     "data": {
      "text/plain": "[]"
     },
     "metadata": {},
     "execution_count": 28
    }
   ],
   "source": [
    "[(i, l) for i, l in enumerate(grouped_lines) if not dod.search(l)]"
   ]
  },
  {
   "cell_type": "code",
   "execution_count": 29,
   "metadata": {},
   "outputs": [
    {
     "output_type": "execute_result",
     "data": {
      "text/plain": "[(None, '.'),\n (None, '.'),\n (None, '.'),\n (None, '.'),\n (None, '.'),\n (None, '.'),\n (None, '.'),\n (None, '.'),\n (None, '.'),\n (None, '.'),\n (None, '.'),\n (None, '.'),\n (None, '.'),\n (None, '.'),\n (None, '.'),\n (None, '.'),\n (None, '.'),\n (None, '.'),\n (None, '.'),\n (None, '.'),\n (None, '.'),\n (None, '.'),\n (None, '.'),\n (None, '.'),\n (None, '.')]"
     },
     "metadata": {},
     "execution_count": 29
    }
   ],
   "source": [
    "[dod.search(l).groups() for l in grouped_lines][:25]"
   ]
  },
  {
   "cell_type": "markdown",
   "metadata": {},
   "source": [
    "#### Task 2 - Capture the age field, as well as everything before and after.\n",
    "\n",
    "Adapt your work from the last problem to not only capture the data of death field, but also everything before.\n",
    "\n",
    "**Hint:** Remember that \n",
    "\n",
    "* Use greedy wild-cards `.*` and/or `.+` to grab as much as possible.\n",
    "* Use comma's to anchor the three parts, e.g. `(pat1), (pat2), (pat3)`"
   ]
  },
  {
   "cell_type": "code",
   "execution_count": 52,
   "metadata": {},
   "outputs": [
    {
     "output_type": "execute_result",
     "data": {
      "text/plain": "[<re.Match object; span=(0, 74), match=\"Gordon M. Aamoth, Jr., 32, Sandler O'Neill + Part>,\n <re.Match object; span=(0, 86), match='Godwin O. Ajala, 33, Summit Security Services, In>,\n <re.Match object; span=(0, 109), match='Mary Lynn Edwards Angell, 52, Cape Cod, Mass. and>,\n <re.Match object; span=(0, 81), match='Laura Angilletta, 23, Staten Island, N.Y., Cantor>,\n <re.Match object; span=(0, 81), match='Lorraine G. Bay, 58, East Windsor, N.J., Flight C>,\n <re.Match object; span=(0, 52), match='Canfield D. Boone, ??, United States Army, Pentag>,\n <re.Match object; span=(0, 89), match='Albert Gunnis Joseph, 79, New York City, Morgan S>,\n <re.Match object; span=(0, 70), match='Ingeborg Joseph, 53, Marriott guest, World Trade >,\n <re.Match object; span=(0, 79), match='Brenda Kegler, ??, Capitol Heights, Md., United S>]"
     },
     "metadata": {},
     "execution_count": 52
    }
   ],
   "source": [
    "age_plus = re.compile('(.+), (\\?\\?|\\d{1,3}), (.+)')\n",
    "[age_plus.search(l) for l in examples]"
   ]
  },
  {
   "cell_type": "code",
   "execution_count": 53,
   "metadata": {},
   "outputs": [
    {
     "output_type": "execute_result",
     "data": {
      "text/plain": "[\"Gordon M. Aamoth, Jr., 32, Sandler O'Neill + Partners, World Trade Center.\",\n 'Godwin O. Ajala, 33, Summit Security Services, Inc., World Trade Center, died 9/15/01.',\n 'Mary Lynn Edwards Angell, 52, Cape Cod, Mass. and Pasadena, Calif., Passenger, United 11, World Trade Center.',\n 'Laura Angilletta, 23, Staten Island, N.Y., Cantor Fitzgerald, World Trade Center.',\n 'Lorraine G. Bay, 58, East Windsor, N.J., Flight Crew, United 93, Shanksville, Pa.',\n 'Canfield D. Boone, ??, United States Army, Pentagon.',\n 'Albert Gunnis Joseph, 79, New York City, Morgan Stanley, World Trade Center, died 1/2/02.',\n 'Ingeborg Joseph, 53, Marriott guest, World Trade Center, died 10/9/01.',\n 'Brenda Kegler, ??, Capitol Heights, Md., United States Army Civilian, Pentagon.']"
     },
     "metadata": {},
     "execution_count": 53
    }
   ],
   "source": [
    "examples"
   ]
  },
  {
   "cell_type": "markdown",
   "metadata": {},
   "source": [
    "## Problem 5 -- Working with passenger data\n",
    "\n",
    "Notice that \n",
    "\n",
    "1. Passengers on the flights have two extra fields: passenger status and flight\n",
    "2. Other victim are missing these fields.\n",
    "\n",
    "In this problem, we will build a regular expression to match these fields and use this expression to split the data.  In the process, we will be able to add the missing fields to the other rows."
   ]
  },
  {
   "cell_type": "markdown",
   "metadata": {},
   "source": [
    "#### Task 1 - Make an expression that matches the passenger status.\n",
    "\n",
    "Make a regular expression that matches and extracts the passenger status field.  This expression should match all lines, returning `None` for the other rows.\n",
    "\n",
    "**Hint:** Remember that \n",
    "\n",
    "* `(p1|p2)` allows you to match `p1` or `p2`.   \n",
    "* `?` allows you to match optional patterns"
   ]
  },
  {
   "cell_type": "code",
   "execution_count": 121,
   "metadata": {},
   "outputs": [],
   "source": [
    "status = re.compile('Passenger|Flight Crew')"
   ]
  },
  {
   "cell_type": "code",
   "execution_count": 122,
   "metadata": {},
   "outputs": [
    {
     "output_type": "execute_result",
     "data": {
      "text/plain": "[None,\n None,\n <re.Match object; span=(68, 77), match='Passenger'>,\n None,\n <re.Match object; span=(41, 52), match='Flight Crew'>,\n None,\n None,\n None,\n None]"
     },
     "metadata": {},
     "execution_count": 122
    }
   ],
   "source": [
    "[status.search(l) for l in examples]"
   ]
  },
  {
   "cell_type": "code",
   "execution_count": 126,
   "metadata": {},
   "outputs": [
    {
     "output_type": "execute_result",
     "data": {
      "text/plain": "[None,\n None,\n None,\n None,\n None,\n None,\n <re.Match object; span=(35, 44), match='Passenger'>,\n None,\n None,\n None,\n None,\n <re.Match object; span=(21, 30), match='Passenger'>,\n None,\n None,\n None,\n None,\n None,\n None,\n None,\n None,\n None,\n None,\n None,\n None,\n None,\n None,\n None,\n None,\n None,\n None,\n None,\n None,\n None,\n None,\n None,\n None,\n None,\n None,\n None,\n None,\n None,\n None,\n None,\n None,\n None,\n None,\n None,\n None,\n None,\n <re.Match object; span=(41, 50), match='Passenger'>,\n None,\n None,\n None,\n None,\n None,\n None,\n None,\n None,\n None,\n None,\n <re.Match object; span=(39, 48), match='Passenger'>,\n None,\n None,\n None,\n None,\n None,\n None,\n None,\n None,\n None,\n None,\n None,\n None,\n None,\n <re.Match object; span=(45, 54), match='Passenger'>,\n <re.Match object; span=(68, 77), match='Passenger'>,\n None,\n None,\n None,\n <re.Match object; span=(45, 54), match='Passenger'>,\n None,\n None,\n None,\n None,\n None,\n None,\n None,\n <re.Match object; span=(73, 84), match='Flight Crew'>,\n None,\n None,\n None,\n None,\n None,\n <re.Match object; span=(42, 51), match='Passenger'>,\n None,\n None,\n None,\n None,\n None,\n None,\n None,\n None,\n None,\n None,\n None,\n None,\n None,\n None,\n None,\n None,\n None,\n None,\n None,\n None,\n <re.Match object; span=(41, 50), match='Passenger'>,\n None,\n None,\n None,\n None,\n None,\n None,\n None,\n None,\n None,\n None,\n None,\n <re.Match object; span=(48, 57), match='Passenger'>,\n None,\n None,\n None,\n None,\n None,\n None,\n None,\n None,\n None,\n None,\n None,\n None,\n None,\n None,\n None,\n None,\n None,\n None,\n None,\n None,\n None,\n <re.Match object; span=(44, 53), match='Passenger'>,\n None]"
     },
     "metadata": {},
     "execution_count": 126
    }
   ],
   "source": [
    "[status.search(l) for l in grouped_lines][:150]"
   ]
  },
  {
   "cell_type": "code",
   "execution_count": 32,
   "metadata": {},
   "outputs": [
    {
     "output_type": "execute_result",
     "data": {
      "text/plain": "[\"Gordon M. Aamoth, Jr., 32, Sandler O'Neill + Partners, World Trade Center.\",\n 'Godwin O. Ajala, 33, Summit Security Services, Inc., World Trade Center, died 9/15/01.',\n 'Mary Lynn Edwards Angell, 52, Cape Cod, Mass. and Pasadena, Calif., Passenger, United 11, World Trade Center.',\n 'Laura Angilletta, 23, Staten Island, N.Y., Cantor Fitzgerald, World Trade Center.',\n 'Lorraine G. Bay, 58, East Windsor, N.J., Flight Crew, United 93, Shanksville, Pa.',\n 'Canfield D. Boone, ??, United States Army, Pentagon.',\n 'Albert Gunnis Joseph, 79, New York City, Morgan Stanley, World Trade Center, died 1/2/02.',\n 'Ingeborg Joseph, 53, Marriott guest, World Trade Center, died 10/9/01.',\n 'Brenda Kegler, ??, Capitol Heights, Md., United States Army Civilian, Pentagon.']"
     },
     "metadata": {},
     "execution_count": 32
    }
   ],
   "source": [
    "examples"
   ]
  },
  {
   "cell_type": "markdown",
   "metadata": {},
   "source": [
    "#### Task 2 - Capture the flight field\n",
    "\n",
    "Make a regular expression that matches and extracts the flight field.  This expression should match all lines, returning `None` for the other rows.\n",
    "\n",
    "**Hint:** Remember that \n",
    "\n",
    "* Look through the data file to identify the airlines.\n",
    "* Use `\\d` to match digits\n",
    "* `(p1|p2)` allows you to match `p1` or `p2`.   \n",
    "* `?` allows you to match optional patterns"
   ]
  },
  {
   "cell_type": "code",
   "execution_count": 42,
   "metadata": {},
   "outputs": [],
   "source": [
    "flight = re.compile(', U.+ \\d\\d')"
   ]
  },
  {
   "cell_type": "code",
   "execution_count": 45,
   "metadata": {},
   "outputs": [
    {
     "output_type": "execute_result",
     "data": {
      "text/plain": "[None,\n None,\n <re.Match object; span=(77, 88), match=', United 11'>,\n None,\n <re.Match object; span=(52, 63), match=', United 93'>,\n None,\n None,\n None,\n None]"
     },
     "metadata": {},
     "execution_count": 45
    }
   ],
   "source": [
    "[flight.search(l) for l in examples]"
   ]
  },
  {
   "cell_type": "code",
   "execution_count": 125,
   "metadata": {},
   "outputs": [
    {
     "output_type": "execute_result",
     "data": {
      "text/plain": "[None,\n None,\n None,\n None,\n None,\n None,\n <re.Match object; span=(44, 55), match=', United 17'>,\n None,\n None,\n None,\n None,\n <re.Match object; span=(30, 41), match=', United 93'>,\n None,\n None,\n None,\n None,\n None,\n None,\n None,\n None,\n None,\n None,\n None,\n None,\n None,\n None,\n None,\n None,\n None,\n None,\n None,\n None,\n None,\n None,\n None,\n None,\n None,\n None,\n None,\n None,\n None,\n None,\n None,\n None,\n None,\n None,\n None,\n None,\n None,\n <re.Match object; span=(50, 61), match=', United 11'>,\n None,\n None,\n None,\n None,\n None,\n None,\n None,\n None,\n None,\n None,\n None,\n None,\n None,\n None,\n None,\n None,\n None,\n None,\n None,\n None,\n None,\n None,\n None,\n None,\n <re.Match object; span=(54, 65), match=', United 11'>,\n <re.Match object; span=(77, 88), match=', United 11'>,\n None,\n None,\n None,\n <re.Match object; span=(54, 65), match=', United 11'>,\n None,\n None,\n None,\n None,\n None,\n None,\n None,\n <re.Match object; span=(84, 95), match=', United 11'>,\n None,\n None,\n None,\n None,\n None,\n <re.Match object; span=(51, 62), match=', United 11'>,\n None,\n None,\n None,\n None,\n None,\n None,\n None,\n None,\n None,\n None,\n None,\n None,\n None,\n None,\n None,\n None,\n None,\n None,\n None,\n None,\n <re.Match object; span=(50, 61), match=', United 17'>,\n None,\n None,\n None,\n None,\n None,\n None,\n None,\n None,\n None,\n None,\n None,\n <re.Match object; span=(57, 68), match=', United 11'>,\n None,\n None,\n None,\n None,\n None,\n None,\n None,\n None,\n None,\n None,\n None,\n None,\n None,\n None,\n None,\n None,\n None,\n None,\n None,\n None,\n None,\n <re.Match object; span=(53, 64), match=', United 17'>,\n None]"
     },
     "metadata": {},
     "execution_count": 125
    }
   ],
   "source": [
    "[flight.search(l) for l in grouped_lines][:150]"
   ]
  },
  {
   "cell_type": "markdown",
   "metadata": {},
   "source": [
    "#### Task 3 - Combine the last two expression\n",
    "\n",
    "Now combine the last two expressions to capture the two flight fields, but also all content before and after these fields."
   ]
  },
  {
   "cell_type": "code",
   "execution_count": 141,
   "metadata": {},
   "outputs": [],
   "source": [
    "combine = re.compile('(.+), Passenger|Flight Crew, U.+ \\d\\d, (.+)')"
   ]
  },
  {
   "cell_type": "code",
   "execution_count": 142,
   "metadata": {},
   "outputs": [
    {
     "output_type": "execute_result",
     "data": {
      "text/plain": "[None,\n None,\n <re.Match object; span=(0, 77), match='Mary Lynn Edwards Angell, 52, Cape Cod, Mass. and>,\n None,\n <re.Match object; span=(41, 81), match='Flight Crew, United 93, Shanksville, Pa.'>,\n None,\n None,\n None,\n None]"
     },
     "metadata": {},
     "execution_count": 142
    }
   ],
   "source": [
    "[combine.search(l) for l in examples]"
   ]
  },
  {
   "cell_type": "code",
   "execution_count": 143,
   "metadata": {},
   "outputs": [
    {
     "output_type": "execute_result",
     "data": {
      "text/plain": "[None,\n None,\n None,\n None,\n None,\n None,\n <re.Match object; span=(0, 44), match='Alona Abraham, 30, Ashdod, Israel, Passenger'>,\n None,\n None,\n None,\n None,\n <re.Match object; span=(0, 30), match='Christian Adams, 37, Passenger'>,\n None,\n None,\n None,\n None,\n None,\n None,\n None,\n None,\n None,\n None,\n None,\n None,\n None,\n None,\n None,\n None,\n None,\n None,\n None,\n None,\n None,\n None,\n None,\n None,\n None,\n None,\n None,\n None,\n None,\n None,\n None,\n None,\n None,\n None,\n None,\n None,\n None,\n <re.Match object; span=(0, 50), match='Anna S. W. Allison, 48, Stoneham, Mass., Passenge>,\n None,\n None,\n None,\n None,\n None,\n None,\n None,\n None,\n None,\n None,\n <re.Match object; span=(0, 48), match='Paul W. Ambrose, 32, Washington, D.C., Passenger'>,\n None,\n None,\n None,\n None,\n None,\n None,\n None,\n None,\n None,\n None,\n None,\n None,\n None,\n <re.Match object; span=(0, 54), match='David Lawrence Angell, 54, Providence, R.I., Pass>,\n <re.Match object; span=(0, 77), match='Mary Lynn Edwards Angell, 52, Cape Cod, Mass. and>,\n None,\n None,\n None,\n <re.Match object; span=(0, 54), match='Seima David Aoyama, 48, Los Angeles, Calif., Pass>,\n None,\n None,\n None,\n None,\n None,\n None,\n None,\n <re.Match object; span=(73, 116), match='Flight Crew, United 11, World Trade Center.'>,\n None,\n None,\n None,\n None,\n None,\n <re.Match object; span=(0, 51), match='Myra Joy Aronson, 50, Charlestown, Mass., Passeng>,\n None,\n None,\n None,\n None,\n None,\n None,\n None,\n None,\n None,\n None,\n None,\n None,\n None,\n None,\n None,\n None,\n None,\n None,\n None,\n None,\n <re.Match object; span=(0, 50), match='Garnet Ace Bailey, 53, Lynnfield, Mass., Passenge>,\n None,\n None,\n None,\n None,\n None,\n None,\n None,\n None,\n None,\n None,\n None,\n <re.Match object; span=(0, 57), match='Christine Johnna Barbuto, 32, Brookline, Mass., P>,\n None,\n None,\n None,\n None,\n None,\n None,\n None,\n None,\n None,\n None,\n None,\n None,\n None,\n None,\n None,\n None,\n None,\n None,\n None,\n None,\n None,\n <re.Match object; span=(0, 53), match='Mark Lawrence Bavis, 31, Roslindale, Mass., Passe>,\n None,\n <re.Match object; span=(41, 81), match='Flight Crew, United 93, Shanksville, Pa.'>,\n None,\n <re.Match object; span=(0, 45), match='Todd M. Beamer, 32, Cranbury, N.J., Passenger'>,\n None,\n None,\n <re.Match object; span=(0, 51), match='Alan Anthony Beaven, 48, Oakland, Calif., Passeng>,\n None,\n None,\n None,\n None,\n None,\n None,\n None,\n None,\n None,\n None,\n None,\n None,\n None,\n None,\n None,\n None,\n None,\n None,\n None,\n None,\n None,\n None,\n <re.Match object; span=(0, 52), match='Graham Andrew Berkeley, 37, Boston, Mass., Passen>,\n None,\n None,\n None,\n None,\n None,\n None,\n None,\n None,\n <re.Match object; span=(0, 45), match='Yeneneh Betru, 35, Burbank, Calif., Passenger'>,\n None,\n <re.Match object; span=(0, 55), match='Carolyn Mayer Beug, 48, Santa Monica, Calif., Pas>,\n None,\n None,\n None,\n None,\n None,\n None,\n None,\n None,\n <re.Match object; span=(0, 42), match='Mark Bingham, 31, New York City, Passenger'>,\n None,\n None,\n None,\n None,\n None,\n None,\n None,\n None,\n None,\n None,\n None,\n None,\n None,\n None,\n None,\n None,\n None,\n None,\n None,\n <re.Match object; span=(0, 56), match='Deora Frances Bodley, 20, Santa Clara, Calif., Pa>,\n None,\n None,\n None,\n None,\n None,\n <re.Match object; span=(0, 59), match='Touri Hamzavi Bolourchi, 62, Los Angeles, Calif.,>,\n None,\n None,\n None,\n None,\n None,\n None,\n <re.Match object; span=(0, 45), match='Kelly Ann Booms, 24, Boston, Mass., Passenger'>,\n None,\n None,\n None,\n None,\n None,\n None,\n None,\n <re.Match object; span=(0, 47), match='Klaus Bothe, 31, Linkenheim, Germany, Passenger'>,\n <re.Match object; span=(0, 50), match='Carol Marie Bouchard, 43, Warwick, R.I., Passenge>,\n None,\n None,\n None,\n None,\n None,\n None,\n None,\n None,\n None,\n None,\n None,\n None,\n None,\n None,\n None,\n None,\n None,\n <re.Match object; span=(44, 84), match='Flight Crew, United 93, Shanksville, Pa.'>,\n None,\n None,\n None,\n <re.Match object; span=(0, 61), match='Daniel Raymond Brandhorst, 41, Los Angeles, Calif>,\n <re.Match object; span=(0, 63), match='David Reed Gamboa Brandhorst, 3, Los Angeles, Cal>,\n None,\n None,\n None,\n None,\n None,\n None,\n None,\n None,\n None,\n None,\n None,\n None,\n None,\n None,\n <re.Match object; span=(0, 48), match='Marion R. Britton, 53, Brooklyn, N.Y., Passenger'>,\n None,\n None,\n None,\n <re.Match object; span=(0, 52), match='Bernard C. Brown II, 11, Washington, D.C., Passen>,\n None,\n None,\n None,\n None,\n None,\n None,\n None,\n None,\n None,\n None,\n None,\n None,\n None,\n None,\n None,\n None,\n None,\n None,\n None,\n None,\n None,\n <re.Match object; span=(0, 56), match='Thomas E. Burnett, Jr., 38, San Ramon, Calif., Pa>,\n None,\n None,\n None,\n None,\n None,\n None,\n None,\n None,\n None,\n None,\n None,\n None,\n None,\n None,\n None,\n None,\n <re.Match object; span=(0, 32), match='John Brett Cahill, 56, Passenger'>,\n None,\n None,\n None,\n None,\n None,\n None,\n None,\n None,\n None,\n None,\n None,\n None,\n None,\n None,\n <re.Match object; span=(0, 52), match='Suzanne M. Calley, 43, San Martin, Calif., Passen>,\n None,\n None,\n None,\n None,\n None,\n None,\n None,\n None,\n None,\n None,\n None,\n None,\n None,\n None,\n None,\n None,\n None,\n None,\n None,\n None,\n None,\n None,\n None,\n None,\n None,\n None,\n None,\n None,\n None,\n None,\n <re.Match object; span=(0, 65), match='Christoffer Mikael Carstanjen, 33, Turner Falls, >,\n None,\n None,\n None,\n None,\n None,\n None,\n <re.Match object; span=(0, 60), match='Neilie Anne Heffernan Casey, 32, Wellesley, Mass.>,\n <re.Match object; span=(0, 58), match='William Joseph Cashman, 60, West New York, N.J., >,\n None,\n None,\n None,\n None,\n None,\n None,\n <re.Match object; span=(0, 33), match='William E. Caswell, 54, Passenger'>,\n None,\n None,\n None,\n None,\n None,\n None,\n None,\n None,\n None,\n None,\n None,\n None,\n None,\n None,\n None,\n None,\n None,\n None,\n None,\n None,\n None,\n None,\n None,\n None,\n None,\n None,\n None,\n None,\n None,\n None,\n None,\n None,\n None,\n None,\n None,\n None,\n None,\n None,\n None,\n None,\n None,\n None,\n None,\n None,\n None,\n None,\n None,\n None,\n None,\n None,\n None,\n None,\n None,\n None,\n None,\n None,\n None,\n None,\n None,\n <re.Match object; span=(0, 43), match='Sara M. Clark, 65, Columbia, Md., Passenger'>,\n None,\n None,\n None,\n None,\n None,\n None,\n None,\n None,\n None,\n None,\n None,\n None,\n None,\n None,\n None,\n None,\n None,\n None,\n None,\n None,\n None,\n None,\n None,\n None,\n None,\n None,\n None,\n None,\n None,\n None,\n None,\n None,\n None,\n <re.Match object; span=(28, 71), match='Flight Crew, United 11, World Trade Center.'>,\n None,\n None,\n None,\n None,\n None,\n None,\n None,\n None,\n None,\n None,\n None,\n None,\n None,\n None,\n None,\n None,\n None,\n None,\n <re.Match object; span=(0, 32), match='Jeffrey W. Coombs, 42, Passenger'>,\n None,\n None,\n None,\n None,\n None,\n <re.Match object; span=(0, 51), match='John J. Corcoran III, 43, Norwell, Mass., Passeng>,\n None,\n None,\n None,\n None,\n <re.Match object; span=(0, 37), match='Georgine Rose Corrigan, 55, Passenger'>,\n None,\n None,\n None,\n None,\n None,\n None,\n None,\n <re.Match object; span=(0, 47), match='Asia S. Cottom, 11, Washington, D.C., Passenger'>,\n None,\n None,\n None,\n None,\n None,\n None,\n None,\n None,\n None,\n None,\n None,\n None,\n None,\n None,\n <re.Match object; span=(0, 54), match='Tara Kathleen Creamer, 30, Worcester, Mass., Pass>,\n None,\n None,\n None,\n None,\n None,\n None,\n None,\n None,\n None,\n None,\n None,\n None,\n None,\n None,\n <re.Match object; span=(0, 46), match='Thelma Cuccinello, 71, Wilmot, N.H., Passenger'>,\n None,\n None,\n None,\n None,\n None,\n None,\n None,\n None,\n None,\n None,\n <re.Match object; span=(0, 71), match='Patrick Joseph Currivan, 52, Boston, Mass. and Pa>,\n None,\n <re.Match object; span=(0, 69), match='Andrew Peter Charles Curry Green, 34, Santa Monic>,\n None,\n <re.Match object; span=(0, 46), match='Patricia Cushing, 69, Bayonne, N.J., Passenger'>,\n None,\n None,\n None,\n None,\n None,\n None,\n None,\n None,\n None,\n None,\n <re.Match object; span=(19, 59), match='Flight Crew, United 93, Shanksville, Pa.'>,\n <re.Match object; span=(0, 44), match='Brian Paul Dale, 43, Warren, N.J., Passenger'>,\n None,\n None,\n None,\n None,\n None,\n None,\n None,\n None,\n None,\n None,\n None,\n None,\n None,\n None,\n None,\n None,\n None,\n None,\n None,\n <re.Match object; span=(0, 53), match='Dorothy Alma de Araujo, 80, Naples, Calif., Passe>,\n None,\n None,\n None,\n None,\n None,\n None,\n None,\n None,\n None,\n None,\n None,\n <re.Match object; span=(0, 46), match='Ana Gloria Pocasangre Debarrera, 49, Passenger'>,\n None,\n <re.Match object; span=(0, 55), match='James D. Debeuneure, 58, Upper Marlboro, Md., Pas>,\n None,\n None,\n None,\n None,\n None,\n None,\n <re.Match object; span=(0, 60), match='Laura Lee Defazio Morabito, 34, Framingham, Mass.>,\n None,\n None,\n None,\n None,\n None,\n None,\n None,\n None,\n None,\n None,\n <re.Match object; span=(0, 45), match='Joseph DeLuca, 52, Ledgewood, N.J., Passenger'>,\n None,\n None,\n None,\n None,\n None,\n None,\n None,\n None,\n None,\n None,\n None,\n None,\n None,\n None,\n None,\n None,\n None,\n None,\n None,\n None,\n None,\n None,\n None,\n None,\n None,\n None,\n None,\n None,\n None,\n <re.Match object; span=(0, 47), match='Rodney Dickens, 11, Washington, D.C., Passenger'>,\n None,\n None,\n None,\n None,\n None,\n None,\n None,\n None,\n <re.Match object; span=(0, 48), match='Eddie A. Dillard, 54, Alexandria, Va., Passenger'>,\n <re.Match object; span=(0, 47), match='David DiMeglio, 22, Wakefield, Mass., Passenger'>,\n None,\n None,\n None,\n None,\n None,\n None,\n None,\n None,\n <re.Match object; span=(0, 54), match='Donald Americo DiTullio, 49, Peabody, Mass., Pass>,\n None,\n None,\n None,\n None,\n None,\n None,\n None,\n None,\n None,\n <re.Match object; span=(0, 60), match='Alberto Dominguez, 66, New South Wales, Australia>,\n None,\n None,\n None,\n None,\n None,\n None,\n None,\n None,\n None,\n None,\n None,\n None,\n None,\n <re.Match object; span=(0, 58), match='Patrick Joseph Driscoll, 70, Englishtowne, N.J., >,\n None,\n <re.Match object; span=(0, 52), match='Charles A. Droz III, 52, Springfield, Va., Passen>,\n None,\n None,\n None,\n None,\n None,\n None,\n None,\n None,\n None,\n None,\n None,\n None,\n None,\n None,\n None,\n None,\n None,\n None,\n None,\n None,\n None,\n None,\n <re.Match object; span=(0, 33), match='Barbara G. Edwards, ??, Passenger'>,\n None,\n None,\n None,\n None,\n None,\n None,\n None,\n None,\n None,\n None,\n None,\n None,\n None,\n None,\n None,\n None,\n None,\n None,\n None,\n None,\n None,\n None,\n None,\n None,\n None,\n None,\n None,\n None,\n None,\n None,\n None,\n None,\n None,\n None,\n None,\n None,\n None,\n None,\n None,\n None,\n None,\n <re.Match object; span=(0, 58), match='Charles S. Falkenberg, 45, University Park, Md., >,\n <re.Match object; span=(0, 51), match='Dana Falkenberg, 3, University Park, Md., Passeng>,\n <re.Match object; span=(0, 50), match='Zoe Falkenberg, 8, University Park, Md., Passenge>,\n None,\n None,\n None,\n None,\n None,\n None,\n None,\n None,\n None,\n None,\n <re.Match object; span=(0, 55), match='Paige Marie Farley-Hackel, 46, Newton, Mass., Pas>,\n None,\n None,\n None,\n None,\n None,\n None,\n None,\n None,\n None,\n None,\n None,\n None,\n None,\n None,\n None,\n None,\n None,\n None,\n None,\n None,\n None,\n None,\n <re.Match object; span=(0, 44), match='Edward P. Felt, 41, Matawan, N.J., Passenger'>,\n None,\n None,\n <re.Match object; span=(0, 51), match='J. Joseph Ferguson, 39, Washington, D.C., Passeng>,\n None,\n None,\n None,\n None,\n None,\n None,\n None,\n None,\n None,\n None,\n None,\n None,\n None,\n None,\n <re.Match object; span=(0, 54), match='Alexander Milan Filipov, 70, Concord, Mass., Pass>,\n None,\n None,\n None,\n None,\n None,\n None,\n None,\n None,\n None,\n None,\n None,\n None,\n None,\n None,\n None,\n None,\n None,\n <re.Match object; span=(0, 31), match='Darlene E. Flagg, ??, Passenger'>,\n <re.Match object; span=(0, 45), match='Wilson F. Flagg, 62, Millwood, Va., Passenger'>,\n None,\n None,\n None,\n None,\n None,\n None,\n None,\n <re.Match object; span=(0, 47), match='Carol Ann Flyzik, 40, Plaistow, N.H., Passenger'>,\n None,\n None,\n None,\n None,\n <re.Match object; span=(0, 44), match='Jane C. Folger, 73, Bayonne, N.J., Passenger'>,\n None,\n None,\n None,\n None,\n None,\n None,\n None,\n None,\n None,\n None,\n None,\n None,\n None,\n None,\n None,\n None,\n None,\n None,\n <re.Match object; span=(0, 49), match='Colleen L. Fraser, 51, Elizabeth, N.J., Passenger>,\n None,\n None,\n None,\n None,\n None,\n None,\n None,\n None,\n None,\n None,\n None,\n <re.Match object; span=(0, 31), match='Paul J. Friedman, 45, Passenger'>,\n None,\n <re.Match object; span=(0, 62), match='Lisa Anne Frost, 22, Rancho Santa Margarita, Cali>,\n None,\n None,\n None,\n None,\n <re.Match object; span=(0, 59), match='Karleton Douglas Beye Fyfe, 31, Brookline, Mass.,>,\n None,\n <re.Match object; span=(0, 54), match='Richard Peter Gabriel, 54, Great Falls, Va., Pass>,\n None,\n None,\n None,\n None,\n None,\n None,\n None,\n None,\n None,\n None,\n None,\n None,\n None,\n None,\n None,\n None,\n <re.Match object; span=(0, 52), match='Ronald L. Gamboa, 33, Los Angeles, Calif., Passen>,\n None,\n None,\n None,\n <re.Match object; span=(0, 58), match='Andrew Sonny Garcia, 62, Portola Valley, Calif., >,\n None,\n None,\n None,\n None,\n None,\n None,\n None,\n None,\n None,\n None,\n None,\n None,\n None,\n None,\n None,\n None,\n None,\n None,\n <re.Match object; span=(0, 47), match='Peter Alan Gay, 54, Tewksbury, Mass., Passenger'>,\n None,\n None,\n None,\n None,\n None,\n None,\n None,\n None,\n None,\n None,\n <re.Match object; span=(0, 47), match='Linda M. George, 27, Westboro, Mass., Passenger'>,\n None,\n None,\n None,\n None,\n None,\n None,\n None,\n None,\n None,\n None,\n None,\n None,\n None,\n None,\n None,\n None,\n None,\n None,\n None,\n None,\n None,\n None,\n None,\n None,\n None,\n None,\n None,\n None,\n None,\n None,\n None,\n None,\n None,\n None,\n None,\n None,\n None,\n None,\n None,\n <re.Match object; span=(0, 28), match='Edmund Glazer, 41, Passenger'>,\n None,\n None,\n <re.Match object; span=(0, 47), match='Jeremy Logan Glick, 31, Hewitt, N.J., Passenger'>,\n None,\n None,\n None,\n None,\n None,\n None,\n None,\n None,\n None,\n None,\n None,\n None,\n None,\n None,\n None,\n None,\n ...]"
     },
     "metadata": {},
     "execution_count": 143
    }
   ],
   "source": [
    "[combine.search(l) for l in grouped_lines]"
   ]
  },
  {
   "cell_type": "code",
   "execution_count": null,
   "metadata": {},
   "outputs": [],
   "source": []
  }
 ],
 "metadata": {
  "kernelspec": {
   "display_name": "Python 3",
   "language": "python",
   "name": "python3"
  },
  "language_info": {
   "codemirror_mode": {
    "name": "ipython",
    "version": 3
   },
   "file_extension": ".py",
   "mimetype": "text/x-python",
   "name": "python",
   "nbconvert_exporter": "python",
   "pygments_lexer": "ipython3",
   "version": "3.7.6-final"
  }
 },
 "nbformat": 4,
 "nbformat_minor": 2
}