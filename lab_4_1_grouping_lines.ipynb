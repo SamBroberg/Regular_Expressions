{
 "cells": [
  {
   "cell_type": "markdown",
   "metadata": {},
   "source": [
    "# Lab 4.1 -  Grouping blocks of data \n",
    "\n",
    "In this lab, we will practice some of the techniques that you learned in the last few week, namely grouping blocks of data lines using the unfold technique."
   ]
  },
  {
   "cell_type": "markdown",
   "metadata": {},
   "source": [
    "## Reading in current progress"
   ]
  },
  {
   "cell_type": "code",
   "execution_count": 2,
   "metadata": {},
   "outputs": [
    {
     "output_type": "execute_result",
     "data": {
      "text/plain": "\"Gordon M. Aamoth, Jr.\\n 32\\n Sandler O'Neill + Partners, World Trade Center.\\nEdelmiro Abad\\n 54\\n Brooklyn, N.Y., Fiduciary Trust Company International, World Trade Center.\\nMarie Rose Abad\\n 49\\n Keefe, Bruyette&Woods, Inc., World Trade Center.\\nAndrew Anthony Abate\\n 37\\n Melville, N.Y., Cantor Fitzgerald, World Trade Center.\\nVincent Paul Abate\\n 40\\n Brooklyn, N.Y., Cantor Fitzgerald, World Trade Center.\\nLaurence Christopher Abel\\n 37\\n New York City, Cantor Fitzgerald, World Trade Center.\\nAlona Abraham\\n 3\""
     },
     "metadata": {},
     "execution_count": 2
    }
   ],
   "source": [
    "with open('911_deaths_extra_removed.csv') as f:\n",
    "    content = f.read()\n",
    "content[:500]"
   ]
  },
  {
   "cell_type": "code",
   "execution_count": 3,
   "metadata": {},
   "outputs": [
    {
     "output_type": "execute_result",
     "data": {
      "text/plain": "['Gordon M. Aamoth, Jr.',\n ' 32',\n \" Sandler O'Neill + Partners, World Trade Center.\",\n 'Edelmiro Abad',\n ' 54',\n ' Brooklyn, N.Y., Fiduciary Trust Company International, World Trade Center.',\n 'Marie Rose Abad',\n ' 49',\n ' Keefe, Bruyette&Woods, Inc., World Trade Center.',\n 'Andrew Anthony Abate',\n ' 37',\n ' Melville, N.Y., Cantor Fitzgerald, World Trade Center.',\n 'Vincent Paul Abate',\n ' 40',\n ' Brooklyn, N.Y., Cantor Fitzgerald, World Trade Center.',\n 'Laurence Christopher Abel',\n ' 37',\n ' New York City, Cantor Fitzgerald, World Trade Center.',\n 'Alona Abraham',\n ' 30']"
     },
     "metadata": {},
     "execution_count": 3
    }
   ],
   "source": [
    "culled_lines = content.split('\\n')\n",
    "culled_lines[:20]"
   ]
  },
  {
   "cell_type": "markdown",
   "metadata": {},
   "source": [
    "## Problem 1 -- Combining block of data\n",
    "\n",
    "You have probably noticed that the data for each victim is spread across three lines.  In this problem we will use the unfold technique to group and join these lines.\n",
    "\n",
    "To complete this task, we will\n",
    "\n",
    "1. Create `get_layer` function that pulls off three lines and joins them with commas\n",
    "2. Create a `get_remaining` function that returns the remainder of the lines (with the 1st three removed).\n",
    "3. Use the unfold pattern to collect and group the data blocks."
   ]
  },
  {
   "cell_type": "markdown",
   "metadata": {},
   "source": [
    "### Task 1 - Develop `get_layer` function\n",
    "\n",
    "First, create a function that pulls off and comma-joins (with a trailing space) the first three rows of the input list."
   ]
  },
  {
   "cell_type": "code",
   "execution_count": 4,
   "metadata": {},
   "outputs": [
    {
     "output_type": "execute_result",
     "data": {
      "text/plain": "['Gordon M. Aamoth, Jr.',\n ' 32',\n \" Sandler O'Neill + Partners, World Trade Center.\"]"
     },
     "metadata": {},
     "execution_count": 4
    }
   ],
   "source": [
    "example_block = culled_lines[:3]\n",
    "example_block"
   ]
  },
  {
   "cell_type": "code",
   "execution_count": 5,
   "metadata": {},
   "outputs": [
    {
     "output_type": "execute_result",
     "data": {
      "text/plain": "['Gordon M. Aamoth, Jr.',\n ' 32',\n \" Sandler O'Neill + Partners, World Trade Center.\"]"
     },
     "metadata": {},
     "execution_count": 5
    }
   ],
   "source": [
    "get_three = lambda L : L[:3]\n",
    "get_three(culled_lines)\n"
   ]
  },
  {
   "cell_type": "code",
   "execution_count": 6,
   "metadata": {},
   "outputs": [
    {
     "output_type": "execute_result",
     "data": {
      "text/plain": "\"Gordon M. Aamoth, Jr., 32, Sandler O'Neill + Partners, World Trade Center.\""
     },
     "metadata": {},
     "execution_count": 6
    }
   ],
   "source": [
    "comma_joined =lambda L: ','.join(L)\n",
    "comma_joined(get_three(culled_lines))\n"
   ]
  },
  {
   "cell_type": "code",
   "execution_count": 7,
   "metadata": {},
   "outputs": [
    {
     "output_type": "execute_result",
     "data": {
      "text/plain": "\"Gordon M. Aamoth, Jr., 32, Sandler O'Neill + Partners, World Trade Center.\""
     },
     "metadata": {},
     "execution_count": 7
    }
   ],
   "source": [
    "get_layer = lambda L:comma_joined(get_three(L))\n",
    "get_layer(example_block)\n",
    "\n"
   ]
  },
  {
   "cell_type": "code",
   "execution_count": 8,
   "metadata": {},
   "outputs": [
    {
     "output_type": "execute_result",
     "data": {
      "text/plain": "'Marie Rose Abad, 49, Keefe, Bruyette&Woods, Inc., World Trade Center.'"
     },
     "metadata": {},
     "execution_count": 8
    }
   ],
   "source": [
    "get_layer(culled_lines[6:])"
   ]
  },
  {
   "cell_type": "markdown",
   "metadata": {},
   "source": [
    "### Task 2 - Develop `get_remaining` function\n",
    "\n",
    "First, create a function that pulls off and comma-joins the first three rows of the input list."
   ]
  },
  {
   "cell_type": "code",
   "execution_count": 9,
   "metadata": {},
   "outputs": [
    {
     "output_type": "execute_result",
     "data": {
      "text/plain": "['Edelmiro Abad',\n ' 54',\n ' Brooklyn, N.Y., Fiduciary Trust Company International, World Trade Center.',\n 'Marie Rose Abad',\n ' 49',\n ' Keefe, Bruyette&Woods, Inc., World Trade Center.',\n 'Andrew Anthony Abate',\n ' 37',\n ' Melville, N.Y., Cantor Fitzgerald, World Trade Center.',\n 'Vincent Paul Abate',\n ' 40',\n ' Brooklyn, N.Y., Cantor Fitzgerald, World Trade Center.',\n 'Laurence Christopher Abel',\n ' 37',\n ' New York City, Cantor Fitzgerald, World Trade Center.',\n 'Alona Abraham',\n ' 30',\n ' Ashdod, Israel, Passenger, United 175, World Trade Center.',\n 'William F. Abrahamson',\n ' 55',\n ' Westchester County, N.Y., Marsh&McLennan Companies, Inc., World Trade Center.',\n 'Richard Anthony Aceto',\n ' 42',\n ' Marsh&McLennan Companies, Inc., World Trade Center.']"
     },
     "metadata": {},
     "execution_count": 9
    }
   ],
   "source": [
    "example_remaining = culled_lines[3:]\n",
    "example_remaining[:24]"
   ]
  },
  {
   "cell_type": "code",
   "execution_count": 10,
   "metadata": {},
   "outputs": [
    {
     "output_type": "execute_result",
     "data": {
      "text/plain": "['Edelmiro Abad',\n ' 54',\n ' Brooklyn, N.Y., Fiduciary Trust Company International, World Trade Center.',\n 'Marie Rose Abad',\n ' 49',\n ' Keefe, Bruyette&Woods, Inc., World Trade Center.',\n 'Andrew Anthony Abate',\n ' 37',\n ' Melville, N.Y., Cantor Fitzgerald, World Trade Center.',\n 'Vincent Paul Abate',\n ' 40',\n ' Brooklyn, N.Y., Cantor Fitzgerald, World Trade Center.',\n 'Laurence Christopher Abel',\n ' 37',\n ' New York City, Cantor Fitzgerald, World Trade Center.',\n 'Alona Abraham',\n ' 30',\n ' Ashdod, Israel, Passenger, United 175, World Trade Center.',\n 'William F. Abrahamson',\n ' 55',\n ' Westchester County, N.Y., Marsh&McLennan Companies, Inc., World Trade Center.']"
     },
     "metadata": {},
     "execution_count": 10
    }
   ],
   "source": [
    "culled_lines[len(get_three(culled_lines)):24]"
   ]
  },
  {
   "cell_type": "code",
   "execution_count": 11,
   "metadata": {},
   "outputs": [
    {
     "output_type": "execute_result",
     "data": {
      "text/plain": "['Marie Rose Abad',\n ' 49',\n ' Keefe, Bruyette&Woods, Inc., World Trade Center.',\n 'Andrew Anthony Abate',\n ' 37',\n ' Melville, N.Y., Cantor Fitzgerald, World Trade Center.',\n 'Vincent Paul Abate',\n ' 40',\n ' Brooklyn, N.Y., Cantor Fitzgerald, World Trade Center.',\n 'Laurence Christopher Abel',\n ' 37',\n ' New York City, Cantor Fitzgerald, World Trade Center.',\n 'Alona Abraham',\n ' 30',\n ' Ashdod, Israel, Passenger, United 175, World Trade Center.',\n 'William F. Abrahamson',\n ' 55',\n ' Westchester County, N.Y., Marsh&McLennan Companies, Inc., World Trade Center.',\n 'Richard Anthony Aceto',\n ' 42',\n ' Marsh&McLennan Companies, Inc., World Trade Center.',\n 'Heinrich Bernhard Ackermann',\n ' 38',\n ' Aon Corporation, World Trade Center.']"
     },
     "metadata": {},
     "execution_count": 11
    }
   ],
   "source": [
    "get_remaining = lambda L: L[len(get_three(L)):]\n",
    "get_remaining(get_remaining(culled_lines))[:24]\n",
    "\n"
   ]
  },
  {
   "cell_type": "code",
   "execution_count": 12,
   "metadata": {},
   "outputs": [],
   "source": [
    "assert len(culled_lines)%3 == 0"
   ]
  },
  {
   "cell_type": "code",
   "execution_count": 13,
   "metadata": {},
   "outputs": [
    {
     "output_type": "execute_result",
     "data": {
      "text/plain": "['Igor Zukelman',\n ' 29',\n ' Fiduciary Trust Company International, World Trade Center.']"
     },
     "metadata": {},
     "execution_count": 13
    }
   ],
   "source": [
    "next_to_last_remaining = culled_lines[-3:]\n",
    "next_to_last_remaining"
   ]
  },
  {
   "cell_type": "markdown",
   "metadata": {},
   "source": [
    "### Task 3 - Make sure you understand the last step and computation will complete.\n",
    "\n",
    "First, create a function that pulls off and comma-joins the first three rows of the input list."
   ]
  },
  {
   "cell_type": "code",
   "execution_count": 14,
   "metadata": {},
   "outputs": [],
   "source": [
    "# Make sure the list length is a multiple of 3\n",
    "assert len(culled_lines) % 3 == 0"
   ]
  },
  {
   "cell_type": "code",
   "execution_count": 15,
   "metadata": {},
   "outputs": [
    {
     "output_type": "execute_result",
     "data": {
      "text/plain": "['Igor Zukelman',\n ' 29',\n ' Fiduciary Trust Company International, World Trade Center.']"
     },
     "metadata": {},
     "execution_count": 15
    }
   ],
   "source": [
    "# We know we are at the final step when len(remaining) <= 3\n",
    "next_to_last_remaining = culled_lines[-3:]\n",
    "next_to_last_remaining"
   ]
  },
  {
   "cell_type": "code",
   "execution_count": 19,
   "metadata": {},
   "outputs": [],
   "source": []
  },
  {
   "cell_type": "markdown",
   "metadata": {},
   "source": [
    "### Task 4 - Use the unfold pattern to unpack the data groups into rows of data.\n",
    "\n",
    "Now that you have all the components, use the unfold pattern (see lecture 4.1) to unpack the data into a list of rows, one per 911 victim."
   ]
  },
  {
   "cell_type": "code",
   "execution_count": 16,
   "metadata": {},
   "outputs": [
    {
     "output_type": "execute_result",
     "data": {
      "text/plain": "([],\n ['Gordon M. Aamoth, Jr.',\n  ' 32',\n  \" Sandler O'Neill + Partners, World Trade Center.\",\n  'Edelmiro Abad',\n  ' 54',\n  ' Brooklyn, N.Y., Fiduciary Trust Company International, World Trade Center.',\n  'Marie Rose Abad',\n  ' 49',\n  ' Keefe, Bruyette&Woods, Inc., World Trade Center.',\n  'Andrew Anthony Abate',\n  ' 37',\n  ' Melville, N.Y., Cantor Fitzgerald, World Trade Center.',\n  'Vincent Paul Abate',\n  ' 40',\n  ' Brooklyn, N.Y., Cantor Fitzgerald, World Trade Center.',\n  'Laurence Christopher Abel',\n  ' 37',\n  ' New York City, Cantor Fitzgerald, World Trade Center.',\n  'Alona Abraham',\n  ' 30',\n  ' Ashdod, Israel, Passenger, United 175, World Trade Center.',\n  'William F. Abrahamson',\n  ' 55',\n  ' Westchester County, N.Y., Marsh&McLennan Companies, Inc., World Trade Center.'])"
     },
     "metadata": {},
     "execution_count": 16
    }
   ],
   "source": [
    "new_seq = []\n",
    "remaining = culled_lines\n",
    "new_seq, remaining[:24]"
   ]
  },
  {
   "cell_type": "code",
   "execution_count": 17,
   "metadata": {},
   "outputs": [
    {
     "output_type": "execute_result",
     "data": {
      "text/plain": "([\"Gordon M. Aamoth, Jr., 32, Sandler O'Neill + Partners, World Trade Center.\"],\n ['Edelmiro Abad',\n  ' 54',\n  ' Brooklyn, N.Y., Fiduciary Trust Company International, World Trade Center.',\n  'Marie Rose Abad',\n  ' 49',\n  ' Keefe, Bruyette&Woods, Inc., World Trade Center.',\n  'Andrew Anthony Abate',\n  ' 37',\n  ' Melville, N.Y., Cantor Fitzgerald, World Trade Center.',\n  'Vincent Paul Abate',\n  ' 40',\n  ' Brooklyn, N.Y., Cantor Fitzgerald, World Trade Center.',\n  'Laurence Christopher Abel',\n  ' 37',\n  ' New York City, Cantor Fitzgerald, World Trade Center.',\n  'Alona Abraham',\n  ' 30',\n  ' Ashdod, Israel, Passenger, United 175, World Trade Center.',\n  'William F. Abrahamson',\n  ' 55',\n  ' Westchester County, N.Y., Marsh&McLennan Companies, Inc., World Trade Center.',\n  'Richard Anthony Aceto',\n  ' 42',\n  ' Marsh&McLennan Companies, Inc., World Trade Center.'])"
     },
     "metadata": {},
     "execution_count": 17
    }
   ],
   "source": [
    "new_seq = new_seq + [get_layer(remaining)]\n",
    "remaining = get_remaining(remaining)\n",
    "new_seq, remaining[:24]\n"
   ]
  },
  {
   "cell_type": "code",
   "execution_count": 24,
   "metadata": {
    "tags": [
     "outputPrepend"
    ]
   },
   "outputs": [
    {
     "output_type": "stream",
     "name": "stdout",
     "text": "ank, World Trade Center.', 'Simon James Turner, 39, London, England, United Kingdom, Risk Waters Group, World Trade Center.', 'Donald Joseph Tuzio, 51, Goshen, N.Y., World Trade Center.', 'Robert T. Twomey, 48, Brooklyn, N.Y., Harvey Young Yurman, Inc., World Trade Center.', 'Jennifer Lynn Tzemis, 26, Staten Island, N.Y., Fred Alger Management, Inc., World Trade Center.', 'John G. Ueltzhoeffer, 36, Roselle Park, N.J., Marsh&McLennan Companies, Inc., World Trade Center.', 'Tyler Victor Ugolyn, 23, Ridgefield, Conn., Fred Alger Management, Inc., World Trade Center.', 'Michael A. Uliano, 42, Aberdeen, N.J., Cantor Fitzgerald, World Trade Center.', 'Jonathan J. Uman, 33, Westport, Conn., Cantor Fitzgerald, World Trade Center.', 'Anil Shivhari Umarkar, 34, North Hackensack, N.J., Global Dynamic International, World Trade Center.', 'Allen V. Upton, 44, New York City, Cantor Fitzgerald, World Trade Center.', 'Diane Marie Urban, 50, Malverne, N.Y., New York State Department of Taxation and Finance, World Trade Center.', 'John Damien Vaccacio, 30, New York City, Cantor Fitzgerald, World Trade Center.', 'Bradley Hodges Vadas, 37, Westport, Conn. and New York City, Keefe, Bruyette&Woods, Inc., World Trade Center.', 'William Valcarcel, 54, New York State Department of Taxation and Finance, World Trade Center.', 'Felix Antonio Vale, 29, Cantor Fitzgerald, World Trade Center.', 'Ivan Vale, 27, Ridgewood, N.Y., Cantor Fitzgerald, World Trade Center.', 'Benito Valentin, 33, Marsh&McLennan consultant from American Express, World Trade Center.', 'Santos Valentin, Jr., 39, Richmond Hill, N.Y., New York City Police Department, World Trade Center.', 'Carlton Francis Valvo II, 38, New York City, Cantor Fitzgerald, World Trade Center.', 'Pendyala Vamsikrishna, 30, Passenger, United 11, World Trade Center.', 'Erica H. Van Acker, 62, New York City, Aon Corporation, World Trade Center.', 'Kenneth W. Van Auken, 47, East Brunswick, N.J., Cantor Fitzgerald, World Trade Center.', 'R. Bruce Van Hine, 48, Greenwood Lake, N.Y., New York City Fire Department, World Trade Center.', 'Daniel M. Van Laere, 46, Glen Rock, N.J., Aon Corporation, World Trade Center.', 'Edward Raymond Vanacore, 29, Jersey City, N.J., Fiduciary Trust Company International, World Trade Center.', 'Jon Charles Vandevander, 44, Ridgewood, N.J., Carr Futures, Inc., World Trade Center.', 'Frederick T. Varacchi, 35, Greenwich, Conn., Cantor Fitzgerald, World Trade Center.', 'Gopalakrishnan Varadhan, 32, New York City, Cantor Fitzgerald, World Trade Center.', 'David Vargas, 46, Pitney Bowes Inc., World Trade Center.', 'Scott C. Vasel, 32, Marsh&McLennan Companies, Inc., World Trade Center.', 'Azael Ismael Vasquez, 21, Staten Island, N.Y., Cantor Fitzgerald, Forte Food Service, World Trade Center.', 'Ronald J. Vauk, 37, Mount Airy, Md., United States Naval Reserve, Pentagon.', 'Arcangel Vazquez, 47, Fiduciary Trust Company International, World Trade Center.', 'Santos Vazquez, 55, Cantor Fitzgerald, World Trade Center.', 'Peter Vega, 36, Brooklyn, N.Y., New York City Fire Department, World Trade Center.', 'Sankara Sastry Velamuri, 63, New York State Department of Taxation and Finance, World Trade Center.', 'Jorge Velazquez, 47, Morgan Stanley, World Trade Center.', 'Lawrence G. Veling, 44, Brooklyn, N.Y., New York City Fire Department, World Trade Center.', 'Anthony Mark Ventura, 41, Middletown, N.J., Fiduciary Trust Company International, World Trade Center.', 'David Vera, 41, Euro Brokers, World Trade Center.', 'Loretta Ann Vero, 51, Nanuet, N.Y., Marsh&McLennan consultant from American Express, World Trade Center.', 'Christopher James Vialonga, 30, Demarest, N.J., Carr Futures, Inc., World Trade Center.', 'Matthew Gilbert Vianna, 23, Manhasset, N.Y., Cantor Fitzgerald, World Trade Center.', 'Robert Anthony Vicario, 40, Weehawken, N.J., Cantor Fitzgerald visitor, World Trade Center.', 'Celeste Torres Victoria, 41, Risk Waters Group, World Trade Center.', 'Joanna Vidal, 26, Risk Waters Group, World Trade Center.', 'John T. Vigiano II, 36, West Islip, N.Y., New York City Fire Department, World Trade Center.', 'Joseph Vincent Vigiano, 34, Medford, N.Y., New York City Police Department, World Trade Center.', 'Frank J. Vignola, Jr., 44, Merrick, N.Y., Cantor Fitzgerald, World Trade Center.', 'Joseph Barry Vilardo, 42, Stanhope, N.J., Cantor Fitzgerald, World Trade Center.', 'Claribel Villalobos Hernandez, 31, Woodside, N.Y., Risk Waters Group conference attendee from Sybase, World Trade Center.', 'Sergio Gabriel Villanueva, 33, Flushing, N.Y., New York City Fire Department, World Trade Center.', 'Chantal Vincelli, 38, New York, Risk Waters Group conference attendee from DataSynapse, World Trade Center.', 'Melissa Renée Vincent, 28, Hoboken, N.J., Alliance Consulting Group, World Trade Center.', 'Francine Ann Virgilio, 48, Staten Island, N.Y., Aon Corporation, World Trade Center.', 'Lawrence Virgilio, 38, Sunnyside, N.Y., New York City Fire Department, World Trade Center.', 'Joseph Gerard Visciano, 22, Staten Island, N.Y., Keefe, Bruyette&Woods, Inc., World Trade Center.', 'Joshua S. Vitale, 28, Great Neck, N.Y., Cantor Fitzgerald, World Trade Center.', 'Maria Percoco Vola, 38, Brooklyn, N.Y., Aon Corporation, World Trade Center.', 'Lynette D. Vosges, 48, Brooklyn, N.Y., Aon Corporation, World Trade Center.', 'Garo H. Voskerijian, 43, Valley Stream, N.Y., Marsh&McLennan Companies, Inc., World Trade Center.', 'Alfred Anton Vukosa, 37, Brooklyn, N.Y., Cantor Fitzgerald, World Trade Center.', 'Gregory Kamal Bruno Wachtler, 25, New York City, Fred Alger Management, Inc., World Trade Center.', 'Karen J. Wagner, 40, Richmond, Va., United States Army, Pentagon.', 'Mary Alice Wahlstrom, 78, Kaysville, Utah, Passenger, United 11, World Trade Center.', 'Honor Elizabeth Wainio, 27, Watchung, N.J., Passenger, United 93, Shanksville, Pa.', 'Gabriela Silvina Waisman, 33, Rego Park, N.Y., Risk Waters Group conference attendee from Sybase, World Trade Center.', 'Wendy Alice Rosario Wakeford, 40, Brooklyn, N.Y., Cantor Fitzgerald, World Trade Center.', 'Courtney Wainsworth Walcott, 37, New Jersey, IQ Financial Systems, Inc., World Trade Center.', 'Victor Wald, 49, New York City, Avalon Partners, Inc., World Trade Center.', 'Kenneth E. Waldie, 46, Methuen, Mass., Passenger, United 11, World Trade Center.', 'Benjamin James Walker, 41, Suffern, N.Y., Guy Carpenter&Company, World Trade Center.', 'Glen Wall, 38, Cantor Fitzgerald, World Trade Center.', 'Mitchel Scott Wallace, 34, Mineola, N.Y., New York State Unified Court System, World Trade Center.', 'Peter Guyder Wallace, 66, Lincoln Park, N.J., Marsh&McLennan Companies, Inc., World Trade Center.', 'Robert Francis Wallace, 43, Woodhaven, N.Y., New York City Fire Department, World Trade Center.', 'Roy Michael Wallace, 42, Wyckoff, N.J., Cantor Fitzgerald, World Trade Center.', 'Jeanmarie Wallendorf, 23, Keefe, Bruyette&Woods, Inc., World Trade Center.', 'Matthew Blake Wallens, 31, New York City, Cantor Fitzgerald, World Trade Center.', 'Meta L. Waller, ??, United States Army Civilian, Pentagon.', 'John Wallice, Jr., 43, Huntington, N.Y., Cantor Fitzgerald, World Trade Center.', 'Barbara P. Walsh, 59, Staten Island, N.Y., Marsh&McLennan Companies, Inc., World Trade Center.', 'Jim Walsh, 37, Scotch Plains, N.J., Cantor Fitzgerald, World Trade Center.', 'Jeffrey P. Walz, 37, Tuckahoe, N.Y., New York City Fire Department, World Trade Center.', 'Ching Wang, 59, First Commercial Bank, World Trade Center.', 'Weibin Wang, 41, Orangeburg, N.Y., Cantor Fitzgerald, World Trade Center.', 'Michael Warchola, 51, New York City Fire Department, World Trade Center.', 'Stephen Gordon Ward, 33, Gorham, Maine, Cantor Fitzgerald, World Trade Center.', 'Timothy Ray Ward, 38, San Diego, Calif., Passenger, United 175, World Trade Center.', 'James A. Waring, 49, Bayside, N.Y., Cantor Fitzgerald, World Trade Center.', 'Brian G. Warner, 32, Annandale, N.J., Cantor Fitzgerald, World Trade Center.', 'Derrick Christopher Washington, 33, Calverton, N.Y., Verizon Communications, Inc., World Trade Center.', 'Charles Waters, 44, Bethpage, N.Y., Cantor Fitzgerald, World Trade Center.', 'James Thomas Waters, Jr., 39, New York City, Keefe, Bruyette&Woods, Inc., World Trade Center.', 'Patrick J. Waters, 44, New York City Fire Department, World Trade Center.', 'Kenneth Thomas Watson, 39, New York City Fire Department, World Trade Center.', 'Michael Henry Waye, 38, Marsh&McLennan Companies, Inc., World Trade Center.', 'Todd Christopher Weaver, 30, Fiduciary Trust Company International, World Trade Center.', 'Walter Edward Weaver, 30, New York City Police Department, World Trade Center.', 'Nathaniel Webb, 56, Jersey City, N.J., Port Authority Police Department, World Trade Center.', 'Dinah Webster, 50, Port Washington, N.Y., Risk Waters Group, World Trade Center.', 'William Michael Weems, 46, Marblehead, Mass., Passenger, United 175, World Trade Center.', 'Joanne Flora Weil, 39, New York City, Harris Beach LLP, World Trade Center.', 'Michael T. Weinberg, 34, Maspeth, N.Y., New York City Fire Department, World Trade Center.', 'Steven Weinberg, 41, Baseline Financial Services, World Trade Center.', 'Scott Jeffrey Weingard, 29, New York City, Cantor Fitzgerald, World Trade Center.', 'Steven George Weinstein, 50, Marsh&McLennan Companies, Inc., World Trade Center.', 'Simon Weiser, 65, Port Authority of New York and New Jersey, World Trade Center.', 'David M. Weiss, 41, New Hampton, N.Y., New York City Fire Department, World Trade Center.', 'David Thomas Weiss, 50, Cantor Fitzgerald, World Trade Center.', 'Chin Sun Pak Wells, 24, Woodbridge, Va., United States Army, Pentagon.', 'Vincent Michael Wells, 22, Essex, England, United Kingdom, Cantor Fitzgerald, World Trade Center.', 'Deborah Jacobs Welsh, 49, New York City, Flight Crew, United 93, Shanksville, Pa.', 'Timothy Matthew Welty, 34, Yonkers, N.Y., New York City Fire Department, World Trade Center.', 'Christian Hans Rudolf Wemmers, 42, Risk Waters Group conference attendee from Callixa Corporation, World Trade Center.', 'Ssu-Hui Wen, 23, Cantor Fitzgerald, World Trade Center.', 'John Joseph Wenckus, 46, Torrance, Calif., Passenger, United 11, World Trade Center.', 'Oleh D. Wengerchuk, 56, Centerport, N.Y., Washington Group International, World Trade Center.', 'Peter M. West, 54, Pottersville, N.J., Cantor Fitzgerald, World Trade Center.', 'Whitfield West, Jr., 41, Brooklyn, N.Y., Cantor Fitzgerald, World Trade Center.', 'Meredith Lynn Whalen, 23, Hoboken, N.J., Fred Alger Management, Inc., World Trade Center.', 'Eugene Michael Whelan, 31, Belle Harbor, N.Y., New York City Fire Department, World Trade Center.', 'Adam S. White, 26, Brooklyn, N.Y., Cantor Fitzgerald, World Trade Center.', 'Edward James White III, 30, Woodside, N.Y., New York City Fire Department, World Trade Center.', 'James Patrick White, 34, Hoboken, N.J., Cantor Fitzgerald, World Trade Center.', 'John Sylvester White, 48, Palm Bay, Fla., ABM Industries Inc., World Trade Center.', 'Kenneth Wilburn White, Jr., 50, Staten Island, N.Y., Cantor Fitzgerald contractor from International Brotherhood of Electrical Workers, World Trade Center.', 'Leonard Anthony White, 57, Brooklyn, N.Y., Verizon Communications, Inc., World Trade Center.', 'Malissa Y. White, 37, Brooklyn, N.Y., Marsh&McLennan Companies, Inc., World Trade Center.', 'Maudlyn A. White, 38, United States Army, Pentagon.', 'Sandra L. White, 44, Montclair, Va., United States Army Civilian, Pentagon.', 'Wayne White, 37, Marsh&McLennan Companies, Inc., World Trade Center.', 'Leanne Marie Whiteside, 31, New York City, Aon Corporation, World Trade Center.', 'Mark P. Whitford, 31, Salisbury Mills, N.Y., New York City Fire Department, World Trade Center.', 'Leslie A. Whittington, 45, University Park, Md., Passenger, American 77, Pentagon.', 'Michael T. Wholey, 34, Westwood, N.J., Port Authority Police Department, World Trade Center.', 'Mary Lenz Wieman, 43, Rockville Centre, N.Y., Aon Corporation, World Trade Center.', 'Jeffrey David Wiener, 33, New York City, Marsh&McLennan Companies, Inc., World Trade Center.', 'William J. Wik, 44, Yonkers, N.Y., Aon Corporation, World Trade Center.', 'Alison Marie Wildman, 30, Martinsville, N.J., Carr Futures, Inc., World Trade Center.', 'Glenn E. Wilkinson, 46, Bayport, N.Y., New York City Fire Department, World Trade Center.', 'Ernest M. Willcher, 62, North Potomac, Md., United States Army contractor, Pentagon.', 'John Charles Willett, 29, Jersey City, N.J., Cantor Fitzgerald, World Trade Center.', 'Brian Patrick Williams, 29, New York City, Cantor Fitzgerald, World Trade Center.', 'Candace Lee Williams, 20, Dorchester, Mass., Passenger, United 11, World Trade Center.', 'Crossley Richard Williams, Jr., 28, Long Island, N.Y., Fiduciary Trust Company International, World Trade Center.', 'David J. Williams, 34, Bronx, N.Y., ABM Industries Inc., World Trade Center.', 'David Lucian Williams, 32, Springfield, Va., United States Navy, Pentagon.', 'Debbie L. Williams, 35, Hoboken, N.J., Aon Corporation, World Trade Center.', 'Dwayne Williams, 40, Lorton, Va., United States Army, Pentagon.', \"Kevin Michael Williams, 24, Shoreham, N.Y., Sandler O'Neill + Partners, World Trade Center.\", 'Louie Anthony Williams, 44, Port Authority of New York and New Jersey, World Trade Center.', 'Louis Calvin Williams III, 53, Mandeville, La., Thomson Financial, World Trade Center.', 'John P. Williamson, 46, Warwick, N.Y., New York City Fire Department, World Trade Center.', 'Donna Ann Wilson, 48, Williston Park, N.Y., Aon Corporation, World Trade Center.', 'William Eben Wilson, 58, New York City, Aon Corporation, World Trade Center.', 'David Harold Winton, 29, Brooklyn, N.Y., Keefe, Bruyette&Woods, Inc., World Trade Center.', 'Glenn J. Winuk, 40, New York City, Jericho Fire Department, World Trade Center.', 'Thomas Francis Wise, 43, Marsh&McLennan Companies, Inc., World Trade Center.', \"Alan L. Wisniewski, 47, Howell, N.J., Sandler O'Neill + Partners, World Trade Center.\", 'Frank Paul Wisniewski, 54, Basking Ridge, N.J., Cantor Fitzgerald, World Trade Center.', 'David Wiswall, 54, Massapequa, N.Y., Aon Corporation, World Trade Center.', 'Sigrid Charlotte Wiswe, 41, New York City, Marsh&McLennan consultant from American Express, World Trade Center.', 'Michael R. Wittenstein, 34, Hoboken, N.J., Cantor Fitzgerald, World Trade Center.', 'Christopher W. Wodenshek, 35, Ridgewood, N.J., Cantor Fitzgerald, World Trade Center.', \"Martin Phillips Wohlforth, 47, Greenwich, Conn., Sandler O'Neill + Partners, World Trade Center.\", 'Katherine Susan Wolf, 40, New York City, Marsh&McLennan Companies, Inc., World Trade Center.', 'Jennifer Yen Wong, 26, Whitestone, N.Y., Marsh&McLennan Companies, Inc., World Trade Center.', 'Siucheung Steve Wong, 34, Jersey City, N.J., Marsh&McLennan Companies, Inc., World Trade Center.', 'Yin Ping Wong, 34, New York, Aon Corporation, World Trade Center.', 'Yuk Ping Wong, 47, New York State Department of Taxation and Finance, World Trade Center.', 'Brent James Woodall, 31, Keefe, Bruyette&Woods, Inc., World Trade Center.', 'James John Woods, 26, New York City, Cantor Fitzgerald, World Trade Center.', 'Marvin Roger Woods, 57, United States Navy Civilian, Pentagon.', 'Patrick J. Woods, 36, Staten Island, N.Y., Aon Corporation contractor from United Brotherhood of Carpenters and Joiners of America, World Trade Center.', 'Richard Herron Woodwell, 44, Ho-Ho-Kus, N.J., Keefe, Bruyette&Woods, Inc., World Trade Center.', 'David Terence Wooley, 54, New York City Fire Department, World Trade Center.', 'John Bentley Works, 36, Darien, Conn., Keefe, Bruyette&Woods, Inc., World Trade Center.', 'Martin Michael Wortley, 29, Park Ridge, N.J., Cantor Fitzgerald, World Trade Center.', 'Rodney James Wotton, 36, Middletown, N.J., Fiduciary Trust Company International, World Trade Center.', 'William Wren, Ret., 61, Lynbrook, N.Y., New York City Fire Department, World Trade Center.', \"John W. Wright, Jr., 33, Rockville Centre, N.Y., Sandler O'Neill + Partners, World Trade Center.\", 'Neil Robin Wright, 30, Cantor Fitzgerald, World Trade Center.', 'Sandra Lee Wright, 57, Pennsylvania, Aon Corporation, World Trade Center.', 'Jupiter Yambem, 41, Beacon, N.Y., Windows on the World, World Trade Center.', 'John D. Yamnicky, Sr., 71, Waldorf, Md., , Passenger, American 77, Pentagon.', 'Suresh Yanamadala, 33, Plainsboro, N.J., Marsh&McLennan consultant, World Trade Center.', 'Vicki Yancey, 44, Springfield, Va., Passenger, American 77, Pentagon.', 'Shuyin Yang, ??, Passenger, American 77, Pentagon.', 'Matthew David Yarnell, 26, Jersey City, N.J., Fiduciary Trust Company International, World Trade Center.', 'Myrna Yaskulka, 59, Staten Island, N.Y., Fred Alger Management, Inc., World Trade Center.', 'Shakila Yasmin, 26, Brooklyn, N.Y., Marsh&McLennan Companies, Inc., World Trade Center.', 'Olabisi Shadie Layeni Yee, 38, International Office Centers Corporation, World Trade Center.', 'Kevin W. Yokum, 27, Washington, D.C., United States Navy, Pentagon.', 'Edward P. York, 45, Wilton, Conn., Cantor Fitzgerald, World Trade Center.', 'Kevin Patrick York, 41, Princeton, N.J., Euro Brokers, World Trade Center.', 'Raymond R. York, 45, New York City Fire Department, World Trade Center.', 'Suzanne Martha Youmans, 60, Brooklyn, N.Y., Aon Corporation, World Trade Center.', 'Barrington Leroy Young, Jr., 35, Rosedale, N.Y., Euro Brokers, World Trade Center.', 'Donald McArthur Young, 41, Virginia Beach, Va., United States Navy, Pentagon.', 'Edmond G. Young, Jr., 22, Owings, Md., United States Army contractor, Pentagon.', 'Jacqueline Young, 47, Marsh&McLennan Companies, Inc., World Trade Center.', 'Lisa L. Young, 37, United States Army Civilian, Pentagon.', 'Elkin Yuen, 32, Flushing, N.Y., Carr Futures, Inc., World Trade Center.', 'Joseph C. Zaccoli, 39, Valley Stream, N.Y., Cantor Fitzgerald, World Trade Center.', 'Adel Agayby Zakhary, 50, Carr Futures, Inc., World Trade Center.', 'Arkady Zaltsman, 45, Brooklyn, N.Y., Aon Corporation visitor from Skidmore, Owings and Merrill LLP, World Trade Center.', 'Edwin J. Zambrana, Jr., 24, Staten Island, N.Y., Project Renewal, World Trade Center.', 'Robert Alan Zampieri, 30, Jersey City, N.J., Carr Futures, Inc., World Trade Center.', 'Mark Zangrilli, 36, Pompton Plains, N.J., Aon Corporation visitor from AXA, World Trade Center.', 'Christopher R. Zarba, Jr., 47, Hopkinton, Mass., Passenger, United 11, World Trade Center.', 'Ira Zaslow, 55, Long Island, N.Y., Lehman Brothers Holdings Inc., World Trade Center.', 'Kenneth Albert Zelman, 36, Succasunna, N.J., Marsh&McLennan contractor from Oracle Corporation, World Trade Center.', 'Abraham J. Zelmanowitz, 55, Brooklyn, N.Y., Empire BlueCross BlueShield, World Trade Center.', 'Martin Morales Zempoaltecatl, 22, Windows on the World, World Trade Center.', 'Zhe Zeng, 28, Bank of New York, World Trade Center.', 'Marc Scott Zeplin, 33, Westchester, N.Y., Cantor Fitzgerald, World Trade Center.', 'Jie Yao Justin Zhao, 27, New York City, CompuCom Systems, Inc., World Trade Center.', 'Yuguang Zheng, ??, Passenger, American 77, Pentagon.', 'Ivelin Ziminski, 41, Tarrytown, N.Y., Marsh&McLennan Companies, Inc., World Trade Center.', 'Michael Joseph Zinzi, 37, Newfoundland, N.J., Marsh&McLennan Companies, Inc., World Trade Center.', 'Charles Alan Zion, 54, Greenwich, Conn., Cantor Fitzgerald, World Trade Center.', \"Julie Lynne Zipper, 44, Paramus, N.J., Sandler O'Neill visitor from SunGard Data Systems, Inc., World Trade Center.\", 'Salvatore J. Zisa, 45, Hawthorne, N.J., Marsh&McLennan Companies, Inc., World Trade Center.', 'Prokopios Paul Zois, 46, Lynbrook, N.Y., Marsh&McLennan consultant from American Express, World Trade Center.', 'Joseph J. Zuccala, 54, Croton-on-Hudson, N.Y., Fuji Bank, Ltd., World Trade Center.', 'Andrew Steven Zucker, 27, Riverdale, N.Y., Harris Beach LLP, World Trade Center.', 'Igor Zukelman, 29, Fiduciary Trust Company International, World Trade Center.']\n"
    }
   ],
   "source": [
    "new_seq = []\n",
    "remaining = culled_lines\n",
    "stop_condion = lambda s: len(s) == 0\n",
    "while not stop_condion(remaining):\n",
    "    new_seq = new_seq + [get_layer(remaining)]\n",
    "    remaining = get_remaining(remaining)\n",
    "    print(new_seq)\n"
   ]
  },
  {
   "cell_type": "code",
   "execution_count": 31,
   "metadata": {},
   "outputs": [
    {
     "output_type": "execute_result",
     "data": {
      "text/plain": "[\"Gordon M. Aamoth, Jr., 32, Sandler O'Neill + Partners, World Trade Center.\",\n 'Edelmiro Abad, 54, Brooklyn, N.Y., Fiduciary Trust Company International, World Trade Center.',\n 'Marie Rose Abad, 49, Keefe, Bruyette&Woods, Inc., World Trade Center.',\n 'Andrew Anthony Abate, 37, Melville, N.Y., Cantor Fitzgerald, World Trade Center.',\n 'Vincent Paul Abate, 40, Brooklyn, N.Y., Cantor Fitzgerald, World Trade Center.',\n 'Laurence Christopher Abel, 37, New York City, Cantor Fitzgerald, World Trade Center.',\n 'Alona Abraham, 30, Ashdod, Israel, Passenger, United 175, World Trade Center.',\n 'William F. Abrahamson, 55, Westchester County, N.Y., Marsh&McLennan Companies, Inc., World Trade Center.',\n 'Richard Anthony Aceto, 42, Marsh&McLennan Companies, Inc., World Trade Center.',\n 'Heinrich Bernhard Ackermann, 38, Aon Corporation, World Trade Center.',\n 'Paul Acquaviva, 29, Glen Rock, N.J., Cantor Fitzgerald, World Trade Center.',\n 'Christian Adams, 37, Passenger, United 93, Shanksville, Pa.',\n 'Donald LaRoy Adams, 28, Cantor Fitzgerald, World Trade Center.',\n 'Patrick Adams, 61, Fuji Bank, Ltd. security, World Trade Center.',\n 'Shannon Lewis Adams, 25, Cantor Fitzgerald, World Trade Center.',\n 'Stephen George Adams, 51, New York City, Windows on the World, World Trade Center.',\n 'Ignatius Udo Adanga, 62, Bronx, N.Y., New York Metropolitan Transportation Council, World Trade Center.',\n 'Christy A. Addamo, 28, New Hyde Park, N.Y., Marsh&McLennan Companies, Inc., World Trade Center.',\n 'Terence Edward Adderley, Jr., 22, New York City, Fred Alger Management, Inc., World Trade Center.',\n 'Sophia B. Addo, 36, Bronx, N.Y., Windows on the World, World Trade Center.',\n 'Lee Adler, 48, Cantor Fitzgerald, World Trade Center.',\n 'Daniel Thomas Afflitto, 32, Manalapan, N.J., Cantor Fitzgerald, World Trade Center.',\n 'Emmanuel Akwasi Afuakwah, 37, Windows on the World, World Trade Center.',\n 'Alok Agarwal, 36, Cantor Fitzgerald, World Trade Center.']"
     },
     "metadata": {},
     "execution_count": 31
    }
   ],
   "source": [
    "[line for line in new_seq][0:24]"
   ]
  },
  {
   "cell_type": "code",
   "execution_count": 44,
   "metadata": {},
   "outputs": [
    {
     "output_type": "execute_result",
     "data": {
      "text/plain": "Willie Q. Troy, 51, United States Army Civilian, Pentagon.\\nWilliam P. Tselepis, Jr., 33, New Providence, N.J., Cantor Fitzgerald, World Trade Center.\\nZhanetta Valentinovna Tsoy, 32, Jersey City, N.J., Marsh&McLennan Companies, Inc., World Trade Center.\\nMichael Patrick Tucker, 39, Rumson, N.J., Cantor Fitzgerald, World Trade Center.\\nLance Richard Tumulty, 32, Bridgewater, N.J., Euro Brokers, World Trade Center.\\nChing Ping Tung, 44, First Commercial Bank, World Trade Center.\\nSimon James Turner, 39, London, England, United Kingdom, Risk Waters Group, World Trade Center.\\nDonald Joseph Tuzio, 51, Goshen, N.Y., World Trade Center.\\nRobert T. Twomey, 48, Brooklyn, N.Y., Harvey Young Yurman, Inc., World Trade Center.\\nJennifer Lynn Tzemis, 26, Staten Island, N.Y., Fred Alger Management, Inc., World Trade Center.\\nJohn G. Ueltzhoeffer, 36, Roselle Park, N.J., Marsh&McLennan Companies, Inc., World Trade Center.\\nTyler Victor Ugolyn, 23, Ridgefield, Conn., Fred Alger Management, Inc., World Trade Center.\\nMichael A. Uliano, 42, Aberdeen, N.J., Cantor Fitzgerald, World Trade Center.\\nJonathan J. Uman, 33, Westport, Conn., Cantor Fitzgerald, World Trade Center.\\nAnil Shivhari Umarkar, 34, North Hackensack, N.J., Global Dynamic International, World Trade Center.\\nAllen V. Upton, 44, New York City, Cantor Fitzgerald, World Trade Center.\\nDiane Marie Urban, 50, Malverne, N.Y., New York State Department of Taxation and Finance, World Trade Center.\\nJohn Damien Vaccacio, 30, New York City, Cantor Fitzgerald, World Trade Center.\\nBradley Hodges Vadas, 37, Westport, Conn. and New York City, Keefe, Bruyette&Woods, Inc., World Trade Center.\\nWilliam Valcarcel, 54, New York State Department of Taxation and Finance, World Trade Center.\\nFelix Antonio Vale, 29, Cantor Fitzgerald, World Trade Center.\\nIvan Vale, 27, Ridgewood, N.Y., Cantor Fitzgerald, World Trade Center.\\nBenito Valentin, 33, Marsh&McLennan consultant from American Express, World Trade Center.\\nSantos Valentin, Jr., 39, Richmond Hill, N.Y., New York City Police Department, World Trade Center.\\nCarlton Francis Valvo II, 38, New York City, Cantor Fitzgerald, World Trade Center.\\nPendyala Vamsikrishna, 30, Passenger, United 11, World Trade Center.\\nErica H. Van Acker, 62, New York City, Aon Corporation, World Trade Center.\\nKenneth W. Van Auken, 47, East Brunswick, N.J., Cantor Fitzgerald, World Trade Center.\\nR. Bruce Van Hine, 48, Greenwood Lake, N.Y., New York City Fire Department, World Trade Center.\\nDaniel M. Van Laere, 46, Glen Rock, N.J., Aon Corporation, World Trade Center.\\nEdward Raymond Vanacore, 29, Jersey City, N.J., Fiduciary Trust Company International, World Trade Center.\\nJon Charles Vandevander, 44, Ridgewood, N.J., Carr Futures, Inc., World Trade Center.\\nFrederick T. Varacchi, 35, Greenwich, Conn., Cantor Fitzgerald, World Trade Center.\\nGopalakrishnan Varadhan, 32, New York City, Cantor Fitzgerald, World Trade Center.\\nDavid Vargas, 46, Pitney Bowes Inc., World Trade Center.\\nScott C. Vasel, 32, Marsh&McLennan Companies, Inc., World Trade Center.\\nAzael Ismael Vasquez, 21, Staten Island, N.Y., Cantor Fitzgerald, Forte Food Service, World Trade Center.\\nRonald J. Vauk, 37, Mount Airy, Md., United States Naval Reserve, Pentagon.\\nArcangel Vazquez, 47, Fiduciary Trust Company International, World Trade Center.\\nSantos Vazquez, 55, Cantor Fitzgerald, World Trade Center.\\nPeter Vega, 36, Brooklyn, N.Y., New York City Fire Department, World Trade Center.\\nSankara Sastry Velamuri, 63, New York State Department of Taxation and Finance, World Trade Center.\\nJorge Velazquez, 47, Morgan Stanley, World Trade Center.\\nLawrence G. Veling, 44, Brooklyn, N.Y., New York City Fire Department, World Trade Center.\\nAnthony Mark Ventura, 41, Middletown, N.J., Fiduciary Trust Company International, World Trade Center.\\nDavid Vera, 41, Euro Brokers, World Trade Center.\\nLoretta Ann Vero, 51, Nanuet, N.Y., Marsh&McLennan consultant from American Express, World Trade Center.\\nChristopher James Vialonga, 30, Demarest, N.J., Carr Futures, Inc., World Trade Center.\\nMatthew Gilbert Vianna, 23, Manhasset, N.Y., Cantor Fitzgerald, World Trade Center.\\nRobert Anthony Vicario, 40, Weehawken, N.J., Cantor Fitzgerald visitor, World Trade Center.\\nCeleste Torres Victoria, 41, Risk Waters Group, World Trade Center.\\nJoanna Vidal, 26, Risk Waters Group, World Trade Center.\\nJohn T. Vigiano II, 36, West Islip, N.Y., New York City Fire Department, World Trade Center.\\nJoseph Vincent Vigiano, 34, Medford, N.Y., New York City Police Department, World Trade Center.\\nFrank J. Vignola, Jr., 44, Merrick, N.Y., Cantor Fitzgerald, World Trade Center.\\nJoseph Barry Vilardo, 42, Stanhope, N.J., Cantor Fitzgerald, World Trade Center.\\nClaribel Villalobos Hernandez, 31, Woodside, N.Y., Risk Waters Group conference attendee from Sybase, World Trade Center.\\nSergio Gabriel Villanueva, 33, Flushing, N.Y., New York City Fire Department, World Trade Center.\\nChantal Vincelli, 38, New York, Risk Waters Group conference attendee from DataSynapse, World Trade Center.\\nMelissa Renée Vincent, 28, Hoboken, N.J., Alliance Consulting Group, World Trade Center.\\nFrancine Ann Virgilio, 48, Staten Island, N.Y., Aon Corporation, World Trade Center.\\nLawrence Virgilio, 38, Sunnyside, N.Y., New York City Fire Department, World Trade Center.\\nJoseph Gerard Visciano, 22, Staten Island, N.Y., Keefe, Bruyette&Woods, Inc., World Trade Center.\\nJoshua S. Vitale, 28, Great Neck, N.Y., Cantor Fitzgerald, World Trade Center.\\nMaria Percoco Vola, 38, Brooklyn, N.Y., Aon Corporation, World Trade Center.\\nLynette D. Vosges, 48, Brooklyn, N.Y., Aon Corporation, World Trade Center.\\nGaro H. Voskerijian, 43, Valley Stream, N.Y., Marsh&McLennan Companies, Inc., World Trade Center.\\nAlfred Anton Vukosa, 37, Brooklyn, N.Y., Cantor Fitzgerald, World Trade Center.\\nGregory Kamal Bruno Wachtler, 25, New York City, Fred Alger Management, Inc., World Trade Center.\\nKaren J. Wagner, 40, Richmond, Va., United States Army, Pentagon.\\nMary Alice Wahlstrom, 78, Kaysville, Utah, Passenger, United 11, World Trade Center.\\nHonor Elizabeth Wainio, 27, Watchung, N.J., Passenger, United 93, Shanksville, Pa.\\nGabriela Silvina Waisman, 33, Rego Park, N.Y., Risk Waters Group conference attendee from Sybase, World Trade Center.\\nWendy Alice Rosario Wakeford, 40, Brooklyn, N.Y., Cantor Fitzgerald, World Trade Center.\\nCourtney Wainsworth Walcott, 37, New Jersey, IQ Financial Systems, Inc., World Trade Center.\\nVictor Wald, 49, New York City, Avalon Partners, Inc., World Trade Center.\\nKenneth E. Waldie, 46, Methuen, Mass., Passenger, United 11, World Trade Center.\\nBenjamin James Walker, 41, Suffern, N.Y., Guy Carpenter&Company, World Trade Center.\\nGlen Wall, 38, Cantor Fitzgerald, World Trade Center.\\nMitchel Scott Wallace, 34, Mineola, N.Y., New York State Unified Court System, World Trade Center.\\nPeter Guyder Wallace, 66, Lincoln Park, N.J., Marsh&McLennan Companies, Inc., World Trade Center.\\nRobert Francis Wallace, 43, Woodhaven, N.Y., New York City Fire Department, World Trade Center.\\nRoy Michael Wallace, 42, Wyckoff, N.J., Cantor Fitzgerald, World Trade Center.\\nJeanmarie Wallendorf, 23, Keefe, Bruyette&Woods, Inc., World Trade Center.\\nMatthew Blake Wallens, 31, New York City, Cantor Fitzgerald, World Trade Center.\\nMeta L. Waller, ??, United States Army Civilian, Pentagon.\\nJohn Wallice, Jr., 43, Huntington, N.Y., Cantor Fitzgerald, World Trade Center.\\nBarbara P. Walsh, 59, Staten Island, N.Y., Marsh&McLennan Companies, Inc., World Trade Center.\\nJim Walsh, 37, Scotch Plains, N.J., Cantor Fitzgerald, World Trade Center.\\nJeffrey P. Walz, 37, Tuckahoe, N.Y., New York City Fire Department, World Trade Center.\\nChing Wang, 59, First Commercial Bank, World Trade Center.\\nWeibin Wang, 41, Orangeburg, N.Y., Cantor Fitzgerald, World Trade Center.\\nMichael Warchola, 51, New York City Fire Department, World Trade Center.\\nStephen Gordon Ward, 33, Gorham, Maine, Cantor Fitzgerald, World Trade Center.\\nTimothy Ray Ward, 38, San Diego, Calif., Passenger, United 175, World Trade Center.\\nJames A. Waring, 49, Bayside, N.Y., Cantor Fitzgerald, World Trade Center.\\nBrian G. Warner, 32, Annandale, N.J., Cantor Fitzgerald, World Trade Center.\\nDerrick Christopher Washington, 33, Calverton, N.Y., Verizon Communications, Inc., World Trade Center.\\nCharles Waters, 44, Bethpage, N.Y., Cantor Fitzgerald, World Trade Center.\\nJames Thomas Waters, Jr., 39, New York City, Keefe, Bruyette&Woods, Inc., World Trade Center.\\nPatrick J. Waters, 44, New York City Fire Department, World Trade Center.\\nKenneth Thomas Watson, 39, New York City Fire Department, World Trade Center.\\nMichael Henry Waye, 38, Marsh&McLennan Companies, Inc., World Trade Center.\\nTodd Christopher Weaver, 30, Fiduciary Trust Company International, World Trade Center.\\nWalter Edward Weaver, 30, New York City Police Department, World Trade Center.\\nNathaniel Webb, 56, Jersey City, N.J., Port Authority Police Department, World Trade Center.\\nDinah Webster, 50, Port Washington, N.Y., Risk Waters Group, World Trade Center.\\nWilliam Michael Weems, 46, Marblehead, Mass., Passenger, United 175, World Trade Center.\\nJoanne Flora Weil, 39, New York City, Harris Beach LLP, World Trade Center.\\nMichael T. Weinberg, 34, Maspeth, N.Y., New York City Fire Department, World Trade Center.\\nSteven Weinberg, 41, Baseline Financial Services, World Trade Center.\\nScott Jeffrey Weingard, 29, New York City, Cantor Fitzgerald, World Trade Center.\\nSteven George Weinstein, 50, Marsh&McLennan Companies, Inc., World Trade Center.\\nSimon Weiser, 65, Port Authority of New York and New Jersey, World Trade Center.\\nDavid M. Weiss, 41, New Hampton, N.Y., New York City Fire Department, World Trade Center.\\nDavid Thomas Weiss, 50, Cantor Fitzgerald, World Trade Center.\\nChin Sun Pak Wells, 24, Woodbridge, Va., United States Army, Pentagon.\\nVincent Michael Wells, 22, Essex, England, United Kingdom, Cantor Fitzgerald, World Trade Center.\\nDeborah Jacobs Welsh, 49, New York City, Flight Crew, United 93, Shanksville, Pa.\\nTimothy Matthew Welty, 34, Yonkers, N.Y., New York City Fire Department, World Trade Center.\\nChristian Hans Rudolf Wemmers, 42, Risk Waters Group conference attendee from Callixa Corporation, World Trade Center.\\nSsu-Hui Wen, 23, Cantor Fitzgerald, World Trade Center.\\nJohn Joseph Wenckus, 46, Torrance, Calif., Passenger, United 11, World Trade Center.\\nOleh D. Wengerchuk, 56, Centerport, N.Y., Washington Group International, World Trade Center.\\nPeter M. West, 54, Pottersville, N.J., Cantor Fitzgerald, World Trade Center.\\nWhitfield West, Jr., 41, Brooklyn, N.Y., Cantor Fitzgerald, World Trade Center.\\nMeredith Lynn Whalen, 23, Hoboken, N.J., Fred Alger Management, Inc., World Trade Center.\\nEugene Michael Whelan, 31, Belle Harbor, N.Y., New York City Fire Department, World Trade Center.\\nAdam S. White, 26, Brooklyn, N.Y., Cantor Fitzgerald, World Trade Center.\\nEdward James White III, 30, Woodside, N.Y., New York City Fire Department, World Trade Center.\\nJames Patrick White, 34, Hoboken, N.J., Cantor Fitzgerald, World Trade Center.\\nJohn Sylvester White, 48, Palm Bay, Fla., ABM Industries Inc., World Trade Center.\\nKenneth Wilburn White, Jr., 50, Staten Island, N.Y., Cantor Fitzgerald contractor from International Brotherhood of Electrical Workers, World Trade Center.\\nLeonard Anthony White, 57, Brooklyn, N.Y., Verizon Communications, Inc., World Trade Center.\\nMalissa Y. White, 37, Brooklyn, N.Y., Marsh&McLennan Companies, Inc., World Trade Center.\\nMaudlyn A. White, 38, United States Army, Pentagon.\\nSandra L. White, 44, Montclair, Va., United States Army Civilian, Pentagon.\\nWayne White, 37, Marsh&McLennan Companies, Inc., World Trade Center.\\nLeanne Marie Whiteside, 31, New York City, Aon Corporation, World Trade Center.\\nMark P. Whitford, 31, Salisbury Mills, N.Y., New York City Fire Department, World Trade Center.\\nLeslie A. Whittington, 45, University Park, Md., Passenger, American 77, Pentagon.\\nMichael T. Wholey, 34, Westwood, N.J., Port Authority Police Department, World Trade Center.\\nMary Lenz Wieman, 43, Rockville Centre, N.Y., Aon Corporation, World Trade Center.\\nJeffrey David Wiener, 33, New York City, Marsh&McLennan Companies, Inc., World Trade Center.\\nWilliam J. Wik, 44, Yonkers, N.Y., Aon Corporation, World Trade Center.\\nAlison Marie Wildman, 30, Martinsville, N.J., Carr Futures, Inc., World Trade Center.\\nGlenn E. Wilkinson, 46, Bayport, N.Y., New York City Fire Department, World Trade Center.\\nErnest M. Willcher, 62, North Potomac, Md., United States Army contractor, Pentagon.\\nJohn Charles Willett, 29, Jersey City, N.J., Cantor Fitzgerald, World Trade Center.\\nBrian Patrick Williams, 29, New York City, Cantor Fitzgerald, World Trade Center.\\nCandace Lee Williams, 20, Dorchester, Mass., Passenger, United 11, World Trade Center.\\nCrossley Richard Williams, Jr., 28, Long Island, N.Y., Fiduciary Trust Company International, World Trade Center.\\nDavid J. Williams, 34, Bronx, N.Y., ABM Industries Inc., World Trade Center.\\nDavid Lucian Williams, 32, Springfield, Va., United States Navy, Pentagon.\\nDebbie L. Williams, 35, Hoboken, N.J., Aon Corporation, World Trade Center.\\nDwayne Williams, 40, Lorton, Va., United States Army, Pentagon.\\nKevin Michael Williams, 24, Shoreham, N.Y., Sandler O'Neill + Partners, World Trade Center.\\nLouie Anthony Williams, 44, Port Authority of New York and New Jersey, World Trade Center.\\nLouis Calvin Williams III, 53, Mandeville, La., Thomson Financial, World Trade Center.\\nJohn P. Williamson, 46, Warwick, N.Y., New York City Fire Department, World Trade Center.\\nDonna Ann Wilson, 48, Williston Park, N.Y., Aon Corporation, World Trade Center.\\nWilliam Eben Wilson, 58, New York City, Aon Corporation, World Trade Center.\\nDavid Harold Winton, 29, Brooklyn, N.Y., Keefe, Bruyette&Woods, Inc., World Trade Center.\\nGlenn J. Winuk, 40, New York City, Jericho Fire Department, World Trade Center.\\nThomas Francis Wise, 43, Marsh&McLennan Companies, Inc., World Trade Center.\\nAlan L. Wisniewski, 47, Howell, N.J., Sandler O'Neill + Partners, World Trade Center.\\nFrank Paul Wisniewski, 54, Basking Ridge, N.J., Cantor Fitzgerald, World Trade Center.\\nDavid Wiswall, 54, Massapequa, N.Y., Aon Corporation, World Trade Center.\\nSigrid Charlotte Wiswe, 41, New York City, Marsh&McLennan consultant from American Express, World Trade Center.\\nMichael R. Wittenstein, 34, Hoboken, N.J., Cantor Fitzgerald, World Trade Center.\\nChristopher W. Wodenshek, 35, Ridgewood, N.J., Cantor Fitzgerald, World Trade Center.\\nMartin Phillips Wohlforth, 47, Greenwich, Conn., Sandler O'Neill + Partners, World Trade Center.\\nKatherine Susan Wolf, 40, New York City, Marsh&McLennan Companies, Inc., World Trade Center.\\nJennifer Yen Wong, 26, Whitestone, N.Y., Marsh&McLennan Companies, Inc., World Trade Center.\\nSiucheung Steve Wong, 34, Jersey City, N.J., Marsh&McLennan Companies, Inc., World Trade Center.\\nYin Ping Wong, 34, New York, Aon Corporation, World Trade Center.\\nYuk Ping Wong, 47, New York State Department of Taxation and Finance, World Trade Center.\\nBrent James Woodall, 31, Keefe, Bruyette&Woods, Inc., World Trade Center.\\nJames John Woods, 26, New York City, Cantor Fitzgerald, World Trade Center.\\nMarvin Roger Woods, 57, United States Navy Civilian, Pentagon.\\nPatrick J. Woods, 36, Staten Island, N.Y., Aon Corporation contractor from United Brotherhood of Carpenters and Joiners of America, World Trade Center.\\nRichard Herron Woodwell, 44, Ho-Ho-Kus, N.J., Keefe, Bruyette&Woods, Inc., World Trade Center.\\nDavid Terence Wooley, 54, New York City Fire Department, World Trade Center.\\nJohn Bentley Works, 36, Darien, Conn., Keefe, Bruyette&Woods, Inc., World Trade Center.\\nMartin Michael Wortley, 29, Park Ridge, N.J., Cantor Fitzgerald, World Trade Center.\\nRodney James Wotton, 36, Middletown, N.J., Fiduciary Trust Company International, World Trade Center.\\nWilliam Wren, Ret., 61, Lynbrook, N.Y., New York City Fire Department, World Trade Center.\\nJohn W. Wright, Jr., 33, Rockville Centre, N.Y., Sandler O'Neill + Partners, World Trade Center.\\nNeil Robin Wright, 30, Cantor Fitzgerald, World Trade Center.\\nSandra Lee Wright, 57, Pennsylvania, Aon Corporation, World Trade Center.\\nJupiter Yambem, 41, Beacon, N.Y., Windows on the World, World Trade Center.\\nJohn D. Yamnicky, Sr., 71, Waldorf, Md., , Passenger, American 77, Pentagon.\\nSuresh Yanamadala, 33, Plainsboro, N.J., Marsh&McLennan consultant, World Trade Center.\\nVicki Yancey, 44, Springfield, Va., Passenger, American 77, Pentagon.\\nShuyin Yang, ??, Passenger, American 77, Pentagon.\\nMatthew David Yarnell, 26, Jersey City, N.J., Fiduciary Trust Company International, World Trade Center.\\nMyrna Yaskulka, 59, Staten Island, N.Y., Fred Alger Management, Inc., World Trade Center.\\nShakila Yasmin, 26, Brooklyn, N.Y., Marsh&McLennan Companies, Inc., World Trade Center.\\nOlabisi Shadie Layeni Yee, 38, International Office Centers Corporation, World Trade Center.\\nKevin W. Yokum, 27, Washington, D.C., United States Navy, Pentagon.\\nEdward P. York, 45, Wilton, Conn., Cantor Fitzgerald, World Trade Center.\\nKevin Patrick York, 41, Princeton, N.J., Euro Brokers, World Trade Center.\\nRaymond R. York, 45, New York City Fire Department, World Trade Center.\\nSuzanne Martha Youmans, 60, Brooklyn, N.Y., Aon Corporation, World Trade Center.\\nBarrington Leroy Young, Jr., 35, Rosedale, N.Y., Euro Brokers, World Trade Center.\\nDonald McArthur Young, 41, Virginia Beach, Va., United States Navy, Pentagon.\\nEdmond G. Young, Jr., 22, Owings, Md., United States Army contractor, Pentagon.\\nJacqueline Young, 47, Marsh&McLennan Companies, Inc., World Trade Center.\\nLisa L. Young, 37, United States Army Civilian, Pentagon.\\nElkin Yuen, 32, Flushing, N.Y., Carr Futures, Inc., World Trade Center.\\nJoseph C. Zaccoli, 39, Valley Stream, N.Y., Cantor Fitzgerald, World Trade Center.\\nAdel Agayby Zakhary, 50, Carr Futures, Inc., World Trade Center.\\nArkady Zaltsman, 45, Brooklyn, N.Y., Aon Corporation visitor from Skidmore, Owings and Merrill LLP, World Trade Center.\\nEdwin J. Zambrana, Jr., 24, Staten Island, N.Y., Project Renewal, World Trade Center.\\nRobert Alan Zampieri, 30, Jersey City, N.J., Carr Futures, Inc., World Trade Center.\\nMark Zangrilli, 36, Pompton Plains, N.J., Aon Corporation visitor from AXA, World Trade Center.\\nChristopher R. Zarba, Jr., 47, Hopkinton, Mass., Passenger, United 11, World Trade Center.\\nIra Zaslow, 55, Long Island, N.Y., Lehman Brothers Holdings Inc., World Trade Center.\\nKenneth Albert Zelman, 36, Succasunna, N.J., Marsh&McLennan contractor from Oracle Corporation, World Trade Center.\\nAbraham J. Zelmanowitz, 55, Brooklyn, N.Y., Empire BlueCross BlueShield, World Trade Center.\\nMartin Morales Zempoaltecatl, 22, Windows on the World, World Trade Center.\\nZhe Zeng, 28, Bank of New York, World Trade Center.\\nMarc Scott Zeplin, 33, Westchester, N.Y., Cantor Fitzgerald, World Trade Center.\\nJie Yao Justin Zhao, 27, New York City, CompuCom Systems, Inc., World Trade Center.\\nYuguang Zheng, ??, Passenger, American 77, Pentagon.\\nIvelin Ziminski, 41, Tarrytown, N.Y., Marsh&McLennan Companies, Inc., World Trade Center.\\nMichael Joseph Zinzi, 37, Newfoundland, N.J., Marsh&McLennan Companies, Inc., World Trade Center.\\nCharles Alan Zion, 54, Greenwich, Conn., Cantor Fitzgerald, World Trade Center.\\nJulie Lynne Zipper, 44, Paramus, N.J., Sandler O'Neill visitor from SunGard Data Systems, Inc., World Trade Center.\\nSalvatore J. Zisa, 45, Hawthorne, N.J., Marsh&McLennan Companies, Inc., World Trade Center.\\nProkopios Paul Zois, 46, Lynbrook, N.Y., Marsh&McLennan consultant from American Express, World Trade Center.\\nJoseph J. Zuccala, 54, Croton-on-Hudson, N.Y., Fuji Bank, Ltd., World Trade Center.\\nAndrew Steven Zucker, 27, Riverdale, N.Y., Harris Beach LLP, World Trade Center.\\nIgor Zukelman, 29, Fiduciary Trust Company International, World Trade Center.\""
     },
     "metadata": {},
     "execution_count": 44
    }
   ],
   "source": [
    "csv_content = '\\n'.join([line for line in new_seq])\n",
    "csv_content"
   ]
  },
  {
   "cell_type": "markdown",
   "metadata": {},
   "source": [
    "### Task 5 - Save your work\n",
    "\n",
    "Now we will save our work by writing our progress to a text file `911_Deaths_Grouped.csv`"
   ]
  },
  {
   "cell_type": "code",
   "execution_count": 45,
   "metadata": {},
   "outputs": [],
   "source": [
    "with open('911_Deaths_Grouped.csv','w') as outfile:\n",
    "    outfile.write(csv_content)"
   ]
  },
  {
   "cell_type": "markdown",
   "metadata": {},
   "source": [
    "### Task 6 - Inspect the file in VSCode and identify any problems.\n",
    "\n",
    "Before we proceed, open an inspect the file.  Document any problems (if they exist) that you find, then discuss how you might solve each problem."
   ]
  },
  {
   "cell_type": "markdown",
   "metadata": {},
   "source": [
    "> Your documentation here."
   ]
  }
 ],
 "metadata": {
  "kernelspec": {
   "display_name": "Python 3",
   "language": "python",
   "name": "python3"
  },
  "language_info": {
   "codemirror_mode": {
    "name": "ipython",
    "version": 3
   },
   "file_extension": ".py",
   "mimetype": "text/x-python",
   "name": "python",
   "nbconvert_exporter": "python",
   "pygments_lexer": "ipython3",
   "version": "3.7.6-final"
  }
 },
 "nbformat": 4,
 "nbformat_minor": 2
}