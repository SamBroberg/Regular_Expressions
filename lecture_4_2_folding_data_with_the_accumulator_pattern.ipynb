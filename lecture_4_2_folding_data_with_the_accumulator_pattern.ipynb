{
 "cells": [
  {
   "cell_type": "markdown",
   "metadata": {
    "slideshow": {
     "slide_type": "slide"
    }
   },
   "source": [
    "## The Accumulator Pattern"
   ]
  },
  {
   "cell_type": "markdown",
   "metadata": {
    "slideshow": {
     "slide_type": "slide"
    }
   },
   "source": [
    "## The accumulator pattern\n",
    "\n",
    "* For turning a sequence into a value\n",
    "    * e.g. Computing statistics\n",
    "* Uses\n",
    "    * A `for` loop\n",
    "    * An accumulation variable\n",
    "    * Update step"
   ]
  },
  {
   "cell_type": "markdown",
   "metadata": {
    "slideshow": {
     "slide_type": "slide"
    }
   },
   "source": [
    "## Example 1 - The mean of a random variable"
   ]
  },
  {
   "cell_type": "code",
   "execution_count": 1,
   "metadata": {
    "slideshow": {
     "slide_type": "fragment"
    }
   },
   "outputs": [],
   "source": [
    "from random import gammavariate\n",
    "#help(gammavariate)"
   ]
  },
  {
   "cell_type": "code",
   "execution_count": 8,
   "metadata": {
    "slideshow": {
     "slide_type": "fragment"
    }
   },
   "outputs": [
    {
     "data": {
      "text/plain": [
       "[2.0582399483338696,\n",
       " 2.0210674478855344,\n",
       " 0.8997779108116254,\n",
       " 4.834534152768132,\n",
       " 7.663149465080473]"
      ]
     },
     "execution_count": 8,
     "metadata": {},
     "output_type": "execute_result"
    }
   ],
   "source": [
    "N = 1000000\n",
    "trials = [gammavariate(2,3) for i in range(N)]\n",
    "trials[:5]"
   ]
  },
  {
   "cell_type": "code",
   "execution_count": 3,
   "metadata": {
    "slideshow": {
     "slide_type": "slide"
    }
   },
   "outputs": [
    {
     "ename": "SyntaxError",
     "evalue": "invalid syntax (<ipython-input-3-629399a40734>, line 3)",
     "output_type": "error",
     "traceback": [
      "\u001b[0;36m  File \u001b[0;32m\"<ipython-input-3-629399a40734>\"\u001b[0;36m, line \u001b[0;32m3\u001b[0m\n\u001b[0;31m    Keep track of\u001b[0m\n\u001b[0m             ^\u001b[0m\n\u001b[0;31mSyntaxError\u001b[0m\u001b[0;31m:\u001b[0m invalid syntax\n"
     ]
    }
   ],
   "source": [
    "## Accumulating the mean\n",
    "\n",
    "Keep track of\n",
    "\n",
    "* current sum\n",
    "* current count"
   ]
  },
  {
   "cell_type": "code",
   "execution_count": 9,
   "metadata": {
    "slideshow": {
     "slide_type": "slide"
    }
   },
   "outputs": [
    {
     "data": {
      "text/plain": [
       "5.9973927576342545"
      ]
     },
     "execution_count": 9,
     "metadata": {},
     "output_type": "execute_result"
    }
   ],
   "source": [
    "cnt = 0 # Count for an empty list\n",
    "tot = 0 # Total for an empty list\n",
    "for trial in trials:\n",
    "    cnt = cnt + 1 # Update the count\n",
    "    tot = tot + trial # Update the total\n",
    "mean = tot/cnt\n",
    "mean"
   ]
  },
  {
   "cell_type": "markdown",
   "metadata": {},
   "source": [
    "## Example 2 -- Checking membership.\n",
    "\n",
    "Suppose we have a sequence `L` and a value `val`.  We want to write a program to determine if `val` is contained in `L` at least once.  We can do this with the accumulator pattern."
   ]
  },
  {
   "cell_type": "code",
   "execution_count": 10,
   "metadata": {},
   "outputs": [
    {
     "data": {
      "text/plain": [
       "('d', 'abcdefghijklmnopqrstuvwxyz')"
      ]
     },
     "execution_count": 10,
     "metadata": {},
     "output_type": "execute_result"
    }
   ],
   "source": [
    "from string import ascii_lowercase\n",
    "val = \"d\"\n",
    "val, ascii_lowercase"
   ]
  },
  {
   "cell_type": "code",
   "execution_count": 11,
   "metadata": {},
   "outputs": [
    {
     "name": "stdout",
     "output_type": "stream",
     "text": [
      "d a False\n",
      "d b False\n",
      "d c False\n",
      "d d True\n",
      "d e True\n",
      "d f True\n",
      "d g True\n",
      "d h True\n",
      "d i True\n",
      "d j True\n",
      "d k True\n",
      "d l True\n",
      "d m True\n",
      "d n True\n",
      "d o True\n",
      "d p True\n",
      "d q True\n",
      "d r True\n",
      "d s True\n",
      "d t True\n",
      "d u True\n",
      "d v True\n",
      "d w True\n",
      "d x True\n",
      "d y True\n",
      "d z True\n"
     ]
    },
    {
     "data": {
      "text/plain": [
       "True"
      ]
     },
     "execution_count": 11,
     "metadata": {},
     "output_type": "execute_result"
    }
   ],
   "source": [
    "is_member = False # Membership for an empty list\n",
    "for ch in ascii_lowercase:\n",
    "    is_member = val == ch or is_member# This ch matches OR we already matched\n",
    "    print(val, ch, is_member)\n",
    "is_member"
   ]
  },
  {
   "cell_type": "code",
   "execution_count": 11,
   "metadata": {},
   "outputs": [
    {
     "data": {
      "text/plain": [
       "('µ', 'abcdefghijklmnopqrstuvwxyz')"
      ]
     },
     "execution_count": 11,
     "metadata": {},
     "output_type": "execute_result"
    }
   ],
   "source": [
    "from string import ascii_lowercase\n",
    "val = \"µ\"\n",
    "val, ascii_lowercase"
   ]
  },
  {
   "cell_type": "code",
   "execution_count": 14,
   "metadata": {},
   "outputs": [
    {
     "data": {
      "text/plain": [
       "False"
      ]
     },
     "execution_count": 14,
     "metadata": {},
     "output_type": "execute_result"
    }
   ],
   "source": [
    "is_member = False # Membership for an empty list\n",
    "for ch in ascii_lowercase:\n",
    "    is_member = val == ch or is_member \n",
    "    #print(val, ch, is_member)\n",
    "is_member"
   ]
  },
  {
   "cell_type": "markdown",
   "metadata": {
    "slideshow": {
     "slide_type": "slide"
    }
   },
   "source": [
    "## The accumulator pattern\n",
    "\n",
    "<img src=\"./img/accum.png\"/>"
   ]
  },
  {
   "cell_type": "markdown",
   "metadata": {
    "slideshow": {
     "slide_type": "slide"
    }
   },
   "source": [
    "<font color=\"red\"><h2> Exercise 4.2.1 </h2></font>\n",
    "\n",
    "The variance of a random variable is the average squared distance to the mean.  We can estimate the variance of a random variable using a simulation with large number of trials.\n",
    "\n",
    "Do this by ..."
   ]
  },
  {
   "cell_type": "markdown",
   "metadata": {
    "slideshow": {
     "slide_type": "slide"
    }
   },
   "source": [
    "#### Use a list comp. to compute a list of squared distances to the mean."
   ]
  },
  {
   "cell_type": "code",
   "execution_count": 6,
   "metadata": {
    "slideshow": {
     "slide_type": "fragment"
    }
   },
   "outputs": [],
   "source": [
    "trials = [1,2,3,4,5,6,7,8,9,10]"
   ]
  },
  {
   "cell_type": "code",
   "execution_count": 14,
   "metadata": {},
   "outputs": [
    {
     "name": "stdout",
     "output_type": "stream",
     "text": [
      "Number of trials 10\n",
      "Squared distance to the mean: 385\n",
      "Variance: 38.5\n"
     ]
    }
   ],
   "source": [
    "cnt = 0 # Count for an empty list\n",
    "tot = 0 # Total for an empty list\n",
    "for trial in trials:\n",
    "    square_trials = [num**2 for num in trials]#squares each number\n",
    "    cnt = cnt + 1 # Update the count\n",
    "    tot = sum([num for num in square_trials])# sums up the total\n",
    "    var = tot/cnt\n",
    "print(\"Number of trials\", cnt)\n",
    "print(\"Squared distance to the mean:\", tot)\n",
    "print(\"Variance:\", var)"
   ]
  },
  {
   "cell_type": "code",
   "execution_count": null,
   "metadata": {},
   "outputs": [],
   "source": []
  },
  {
   "cell_type": "code",
   "execution_count": 28,
   "metadata": {},
   "outputs": [
    {
     "data": {
      "text/plain": [
       "20.25"
      ]
     },
     "execution_count": 28,
     "metadata": {},
     "output_type": "execute_result"
    }
   ],
   "source": [
    "for nums in L:\n",
    "    dist = nums - mean\n",
    "    sqr_dist = dist**2\n",
    "sqr_dist\n"
   ]
  },
  {
   "cell_type": "code",
   "execution_count": 29,
   "metadata": {},
   "outputs": [
    {
     "ename": "SyntaxError",
     "evalue": "invalid syntax (<ipython-input-29-590fa638fed4>, line 1)",
     "output_type": "error",
     "traceback": [
      "\u001b[0;36m  File \u001b[0;32m\"<ipython-input-29-590fa638fed4>\"\u001b[0;36m, line \u001b[0;32m1\u001b[0m\n\u001b[0;31m    [ for num in L]\u001b[0m\n\u001b[0m        ^\u001b[0m\n\u001b[0;31mSyntaxError\u001b[0m\u001b[0;31m:\u001b[0m invalid syntax\n"
     ]
    }
   ],
   "source": []
  },
  {
   "cell_type": "markdown",
   "metadata": {
    "slideshow": {
     "slide_type": "slide"
    }
   },
   "source": [
    "#### Use the accumulator pattern to get the count and total squared distance"
   ]
  },
  {
   "cell_type": "code",
   "execution_count": null,
   "metadata": {
    "slideshow": {
     "slide_type": "fragment"
    }
   },
   "outputs": [],
   "source": []
  },
  {
   "cell_type": "markdown",
   "metadata": {
    "slideshow": {
     "slide_type": "slide"
    }
   },
   "source": [
    "#### Compute the variance\n",
    "\n",
    "$$variance = \\frac{\\text{Total Sqr Dist}}{\\text{Num Trials}}$$"
   ]
  },
  {
   "cell_type": "code",
   "execution_count": null,
   "metadata": {
    "slideshow": {
     "slide_type": "fragment"
    }
   },
   "outputs": [],
   "source": []
  }
 ],
 "metadata": {
  "celltoolbar": "Slideshow",
  "kernelspec": {
   "display_name": "Python 3",
   "language": "python",
   "name": "python3"
  },
  "language_info": {
   "codemirror_mode": {
    "name": "ipython",
    "version": 3
   },
   "file_extension": ".py",
   "mimetype": "text/x-python",
   "name": "python",
   "nbconvert_exporter": "python",
   "pygments_lexer": "ipython3",
   "version": "3.7.6"
  },
  "varInspector": {
   "cols": {
    "lenName": 16,
    "lenType": 16,
    "lenVar": 40
   },
   "kernels_config": {
    "python": {
     "delete_cmd_postfix": "",
     "delete_cmd_prefix": "del ",
     "library": "var_list.py",
     "varRefreshCmd": "print(var_dic_list())"
    },
    "r": {
     "delete_cmd_postfix": ") ",
     "delete_cmd_prefix": "rm(",
     "library": "var_list.r",
     "varRefreshCmd": "cat(var_dic_list()) "
    }
   },
   "types_to_exclude": [
    "module",
    "function",
    "builtin_function_or_method",
    "instance",
    "_Feature"
   ],
   "window_display": false
  }
 },
 "nbformat": 4,
 "nbformat_minor": 2
}
